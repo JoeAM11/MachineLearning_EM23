{
  "nbformat": 4,
  "nbformat_minor": 0,
  "metadata": {
    "colab": {
      "provenance": [],
      "authorship_tag": "ABX9TyOGlHmDFOOH+KaDMXF1GONN",
      "include_colab_link": true
    },
    "kernelspec": {
      "name": "python3",
      "display_name": "Python 3"
    },
    "language_info": {
      "name": "python"
    }
  },
  "cells": [
    {
      "cell_type": "markdown",
      "metadata": {
        "id": "view-in-github",
        "colab_type": "text"
      },
      "source": [
        "<a href=\"https://colab.research.google.com/github/JoeAM11/MachineLearning_EM23/blob/main/Tarea08_MachineLearning_MetricosDesempe%C3%B1o_Enero_2023.ipynb\" target=\"_parent\"><img src=\"https://colab.research.google.com/assets/colab-badge.svg\" alt=\"Open In Colab\"/></a>"
      ]
    },
    {
      "cell_type": "markdown",
      "source": [
        "🤖 📓\n",
        "# Tarea #08\n",
        "#### Nombre :Joel Alejandro Rodarte Rivera \n",
        "#### Matrícula: 2173260\n",
        "\n",
        "El siguiente cuaderno contiene:\n",
        "\n",
        "* Métricas de desempeño basados en la tarea 06 y 07 \n",
        "\n",
        "* Árboles de desición\n",
        "  * Accuracy\n",
        "  * Presicion\n",
        "  * Recall\n",
        "  * F1-score\n",
        "\n",
        "* Regresión Logística\n",
        "  * Matríz de confusión \n",
        "  * Curva ROC\n",
        "\n",
        "\n",
        "\n"
      ],
      "metadata": {
        "id": "hxuALq8r2K3-"
      }
    },
    {
      "cell_type": "markdown",
      "source": [
        "## Regresión Logística"
      ],
      "metadata": {
        "id": "803OALmr3G6M"
      }
    },
    {
      "cell_type": "code",
      "source": [
        "! git clone https://github.com/JoeAM11/MachineLearning_EM23.git\n",
        "from sklearn.model_selection import train_test_split\n",
        "from sklearn.linear_model import LogisticRegression\n",
        "from sklearn.metrics import accuracy_score\n"
      ],
      "metadata": {
        "colab": {
          "base_uri": "https://localhost:8080/"
        },
        "id": "jbv8WLgL3OH-",
        "outputId": "d826d663-c07c-48c8-f4a1-3505ef740628"
      },
      "execution_count": 7,
      "outputs": [
        {
          "output_type": "stream",
          "name": "stdout",
          "text": [
            "fatal: destination path 'MachineLearning_EM23' already exists and is not an empty directory.\n"
          ]
        }
      ]
    },
    {
      "cell_type": "code",
      "source": [
        "import pandas as pd\n"
      ],
      "metadata": {
        "id": "kruLyNhL3itA"
      },
      "execution_count": 25,
      "outputs": []
    },
    {
      "cell_type": "code",
      "execution_count": 26,
      "metadata": {
        "id": "TUnySFMu1h03"
      },
      "outputs": [],
      "source": [
        "# Train = 3445 pacientes - 70%\n",
        "# Test  = 1475 pacientes - 30%\n",
        "\n",
        "df_test = pd.read_csv('/content/MachineLearning_EM23/Tarea06_ML_Febrero_AprendizajeSupervisado/Testing_Tarea06.csv') \n",
        "df_train = pd.read_csv('/content/MachineLearning_EM23/Tarea06_ML_Febrero_AprendizajeSupervisado/training_Tarea06.csv') "
      ]
    },
    {
      "cell_type": "code",
      "source": [
        " #Preparar data frame de training y testing \n",
        "\n",
        "# Sacar todas las X del dataframe de train; Quitar prognosis\n",
        "x_train = df_train.drop('prognosis', axis=1)\n",
        "# Sacar la variable de respuesta del data frame de train, en este caso prognosis\n",
        "y_train = df_train.prognosis\n",
        "\n",
        "# Preparar data frame de testing; mismo paso anterior pero con la matriz de test  \n",
        "x_test = df_test.drop('prognosis', axis=1)\n",
        "y_test = df_test.prognosis\n",
        "\n",
        "# Fit del modelo con los datos de entrenamiento \n",
        "clf = LogisticRegression()\n",
        "clf.fit(x_train, y_train)\n",
        "\n",
        "# Accuracy is defined as the number of correct predictions divided by the total number of predictions made by the model. It is a measure of how well the model is able to classify the data correctly.\n",
        "# Comparar la prediccion del modelo contra el resultado real  \n",
        "\n",
        "y_pred = clf.predict(x_test)\n",
        "accuracy = accuracy_score(y_test, y_pred)\n",
        "print('Accuracy:', accuracy)\n",
        "\n",
        "# Se obtuvo un accuracy de 1.0, lo cual quiere decir que para todos las pacientes que tienne diabetes, según sus síntomas, fuimos capaces de predecir que tenía Diabetes. \n",
        "# Por el momento se me hace algo sospechoso que haya funcionado tan bien a la primera.\n",
        "  # Sin embargo, cabe la posibilidad que Diabetes sea una enfermedad muy bien estudiada de tal manera que se conocen muy bien sus síntomas y es difícil confundirlo con otra enfermedad. \n"
      ],
      "metadata": {
        "colab": {
          "base_uri": "https://localhost:8080/"
        },
        "id": "eqALNcS13vpi",
        "outputId": "9e8e6c67-0c54-4436-8879-957d9a42093e"
      },
      "execution_count": 27,
      "outputs": [
        {
          "output_type": "stream",
          "name": "stdout",
          "text": [
            "Accuracy: 1.0\n"
          ]
        }
      ]
    },
    {
      "cell_type": "code",
      "source": [
        "# Matiriz de confusión \n",
        "\n",
        "#                    Predicted positive    Predicted negative\n",
        "# Actual positive    True positive (TP)    False negative (FN)\n",
        "# Actual negative    False positive (FP)   True negative (TN)\n",
        "\n",
        "from sklearn.metrics import confusion_matrix, roc_curve, auc\n",
        "\n",
        "conf_matrix = confusion_matrix(y_test, y_pred)\n",
        "print('Confusion matrix:\\n', conf_matrix)\n",
        "\n",
        "# Resultados \n",
        "  # 1436 True Positives - No se tiene la enfermedad y se predijo que se tenía.\n",
        "  # 36 True negatives   - Se tiene la enferdad se predijo que se tenía. \n",
        "    # Me parece que el algoritmo está considerado el 0 como positive y el 1 como negative dado que yo sé que de la test data habían 36 casos de diabetes. \n",
        "      # Me los están marcando como TRUE NEGATIVE, cuando esperaba fuera TRUE POSITIVE\n",
        "      # Pendiente de revisar dónde puedo cambiar la lógica de interpretación de 0s y 1s\n",
        "\n",
        "# ROC (Receiver Operating Characteristic) \n",
        " # The ROC (Receiver Operating Characteristic) curve is a plot of the true positive rate (TPR) against the false positive rate (FPR) at various classification thresholds.\n",
        "  # In the context of a binary classification problem like predicting the presence or absence of an illness, the TPR is the proportion of actual positive cases that are correctly \n",
        "  # identified as positive by the model (i.e., the number of true positives divided by the sum of true positives and false negatives), and the FPR is the proportion of actual negative \n",
        "  # cases that are incorrectly identified as positive by the model (i.e., the number of false positives divided by the sum of false positives and true negatives).\n"
      ],
      "metadata": {
        "colab": {
          "base_uri": "https://localhost:8080/"
        },
        "id": "QEggIs-n4CdC",
        "outputId": "742f545b-a036-4ec2-8811-8cc50a7d5140"
      },
      "execution_count": 28,
      "outputs": [
        {
          "output_type": "stream",
          "name": "stdout",
          "text": [
            "Confusion matrix:\n",
            " [[1439    0]\n",
            " [   0   36]]\n"
          ]
        }
      ]
    },
    {
      "cell_type": "code",
      "source": [
        "# ROC (Receiver Operating Characteristic) \n",
        " # The ROC (Receiver Operating Characteristic) curve is a plot of the true positive rate (TPR) against the false positive rate (FPR) at various classification thresholds.\n",
        "  # In the context of a binary classification problem like predicting the presence or absence of an illness, the TPR is the proportion of actual positive cases that are correctly \n",
        "  # identified as positive by the model (i.e., the number of true positives divided by the sum of true positives and false negatives), and the FPR is the proportion of actual negative \n",
        "  # cases that are incorrectly identified as positive by the model (i.e., the number of false positives divided by the sum of false positives and true negatives).\n",
        "\n",
        "y_score = clf.decision_function(x_test)\n",
        "fpr, tpr, thresholds = roc_curve(y_test, y_score)\n",
        "roc_auc = auc(fpr, tpr)\n",
        "plt.figure()\n",
        "plt.plot(fpr, tpr, color='darkorange', lw=2, label='ROC curve (area = %0.2f)' % roc_auc)\n",
        "plt.plot([0, 1], [0, 1], color='navy', lw=2, linestyle='--')\n",
        "plt.xlim([0.0, 1.0])\n",
        "plt.ylim([0.0, 1.05])\n",
        "plt.xlabel('False Positive Rate')\n",
        "plt.ylabel('True Positive Rate')\n",
        "plt.title('Receiver operating characteristic')\n",
        "plt.legend(loc=\"lower right\")\n",
        "plt.show()"
      ],
      "metadata": {
        "colab": {
          "base_uri": "https://localhost:8080/",
          "height": 295
        },
        "id": "I-cSfDhN4N7r",
        "outputId": "78640718-e054-4391-c89e-127283683a0b"
      },
      "execution_count": 29,
      "outputs": [
        {
          "output_type": "display_data",
          "data": {
            "text/plain": [
              "<Figure size 432x288 with 1 Axes>"
            ],
            "image/png": "[encoded data removed]"
          },
          "metadata": {
            "needs_background": "light"
          }
        }
      ]
    },
    {
      "cell_type": "markdown",
      "source": [
        "## Desicion Trees"
      ],
      "metadata": {
        "id": "AwxUlH2r4b8y"
      }
    },
    {
      "cell_type": "code",
      "source": [
        "df = pd.read_csv('/content/MachineLearning_EM23/Training.csv') #Importar el csv desde mi repositorio en Guthub"
      ],
      "metadata": {
        "id": "hAG4M0rr4bXx"
      },
      "execution_count": 30,
      "outputs": []
    },
    {
      "cell_type": "code",
      "source": [
        "# Sets de datos de los pacientes que dado unos síntomas tienen (1) o no tienen  (0) diabetes\n",
        "# Train = 3445 pacientes - 70%\n",
        "# Test  = 1475 pacientes - 30%\n",
        "\n",
        "df_train = pd.read_csv('/content/MachineLearning_EM23/Tarea06_ML_Febrero_AprendizajeSupervisado/training_Tarea06.csv') \n",
        "df_test = pd.read_csv('/content/MachineLearning_EM23/Tarea06_ML_Febrero_AprendizajeSupervisado/Testing_Tarea06.csv') \n",
        "\n",
        "# Partir mis datos en entrenamiento y test\n",
        "\n",
        "# Entrenamiento \n",
        "# Variables predictoras (síntomas)\n",
        "x_train = df_train.drop('prognosis', axis=1) \n",
        "\n",
        "# Variable de interés. Presencia o ausencia de diabetes\n",
        "y_train = df_train.prognosis \n",
        "\n",
        "\n",
        "#Test \n",
        "# Variables predictoras (síntomas)\n",
        "x_test = df_test.drop('prognosis', axis=1) \n",
        "\n",
        "# Variable de interés. Presencia o ausencia de diabetes\n",
        "y_test = df_test.prognosis \n",
        "\n",
        "# Importar librebría necesario para la clasificación de desición de árbol\n",
        "from sklearn.tree import DecisionTreeClassifier\n",
        "     \n",
        "\n",
        "# dtc se declara como una clase de la funcion importada\n",
        "# XXXXXXXXXXXXXXXXXX que significa depth y random state  ZXXXXXXXXXXXXXXXXXXXXXXXXX\n",
        "\n",
        "dtc = DecisionTreeClassifier(max_depth=5)\n",
        "\n",
        "# fit del árbol de desición\n",
        "dtc.fit(x_train, y_train)"
      ],
      "metadata": {
        "id": "NT0lZtFT4-9O"
      },
      "execution_count": null,
      "outputs": []
    },
    {
      "cell_type": "code",
      "source": [
        "# Predicción basado en el el entremaineto del modelo, utilizando las variables de test para predecir el resultado de y del data set de test. \n",
        "y_pred = dtc.predict(x_test)\n",
        "     \n",
        "\n",
        "# Evaluar el algoritmo con accuracy, presicion, recall y F1 score\n",
        "from sklearn.metrics import accuracy_score, precision_score, recall_score, f1_score\n",
        "\n",
        "print('Accuracy:', accuracy_score(y_test, y_pred))\n",
        "print('Precision:', precision_score(y_test, y_pred))\n",
        "print('Recall:', recall_score(y_test, y_pred))\n",
        "print('F1-score:', f1_score(y_test, y_pred))"
      ],
      "metadata": {
        "colab": {
          "base_uri": "https://localhost:8080/"
        },
        "id": "apxwAgsu5HMj",
        "outputId": "2043cb4c-0be8-4c41-dc29-b40052649573"
      },
      "execution_count": 32,
      "outputs": [
        {
          "output_type": "stream",
          "name": "stdout",
          "text": [
            "Accuracy: 1.0\n",
            "Precision: 1.0\n",
            "Recall: 1.0\n",
            "F1-score: 1.0\n"
          ]
        }
      ]
    }
  ]
}