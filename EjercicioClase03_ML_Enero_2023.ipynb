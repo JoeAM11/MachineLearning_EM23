{
  "nbformat": 4,
  "nbformat_minor": 0,
  "metadata": {
    "colab": {
      "provenance": [],
      "authorship_tag": "ABX9TyOqabLTsHQ8qR3/6poXrQKf",
      "include_colab_link": true
    },
    "kernelspec": {
      "name": "python3",
      "display_name": "Python 3"
    },
    "language_info": {
      "name": "python"
    }
  },
  "cells": [
    {
      "cell_type": "markdown",
      "metadata": {
        "id": "view-in-github",
        "colab_type": "text"
      },
      "source": [
        "<a href=\"https://colab.research.google.com/github/JoeAM11/MachineLearning_EM23/blob/main/EjercicioClase03_ML_Enero_2023.ipynb\" target=\"_parent\"><img src=\"https://colab.research.google.com/assets/colab-badge.svg\" alt=\"Open In Colab\"/></a>"
      ]
    },
    {
      "cell_type": "code",
      "source": [
        "! git clone https://github.com/JoeAM11/MachineLearning_EM23.git\n",
        "import pandas as pd\n",
        "df = pd.read_csv('/content/MachineLearning_EM23/Testing.csv') #Importar el csv desde mi repositorio en Guthub\n",
        "pd.set_option('display.max_columns', 10)\n",
        "pd.set_option('display.max_rows', 10) #Para evitar que me trunque informacióno o que no despliegue tanta, segun sea necesario "
      ],
      "metadata": {
        "id": "D0witozbuN82"
      },
      "execution_count": null,
      "outputs": []
    },
    {
      "cell_type": "code",
      "source": [
        "df.head() #solo mostrar las primeras 5 lineas con el objetivo de entender como está estructurada la data frame."
      ],
      "metadata": {
        "id": "lE4Ldtt-uSXK"
      },
      "execution_count": null,
      "outputs": []
    },
    {
      "cell_type": "code",
      "source": [
        "df.shape"
      ],
      "metadata": {
        "id": "Fc0orQ2Dyuhv"
      },
      "execution_count": null,
      "outputs": []
    },
    {
      "cell_type": "code",
      "source": [
        "# Media de la variable itching \n",
        "itching_row = df.itching\n",
        "n = df.itching.count()\n",
        "suma = 1 \n",
        "\n",
        "for x in itching_row:\n",
        "  suma = suma + x\n",
        "\n",
        "promedio = suma / n \n",
        "promedio"
      ],
      "metadata": {
        "colab": {
          "base_uri": "https://localhost:8080/"
        },
        "id": "ziTydMRCuWJc",
        "outputId": "0681f13c-0b64-48ea-f0cb-38b35157d37e"
      },
      "execution_count": 85,
      "outputs": [
        {
          "output_type": "execute_result",
          "data": {
            "text/plain": [
              "0.19047619047619047"
            ]
          },
          "metadata": {},
          "execution_count": 85
        }
      ]
    },
    {
      "cell_type": "code",
      "source": [
        "sorted_itching = sorted(itching_row,reverse=False) #acomodado de mayor a menor para poder realizar la mediana \n",
        "sorted_itching"
      ],
      "metadata": {
        "id": "9SBQAkvl35yo"
      },
      "execution_count": null,
      "outputs": []
    },
    {
      "cell_type": "code",
      "source": [
        "# Mediana itching \n",
        "itching_row = df.itching\n",
        "n = df.itching.count()\n",
        "\n",
        "if n % 2 != 0 : \n",
        "  n =ceil(roundn / 2)\n",
        "  media = sorted_itching[int(n)]\n",
        "  print(media)\n",
        "\n",
        "else:\n",
        "  m = int(n/2) \n",
        "  mediana_baja = sorted_itching[m] #tuve que hacer que m fuera in interger porque las listas solo aceptan numeros no strings como respuesta.\n",
        "  mediana_alta = mediana_baja + sorted_itching[m+1]\n",
        "  mediana_real = str((mediana_baja + mediana_alta)/2) #cambiar a string para poder concatenarlo a la respuseta \n",
        "  print(\"La mediana es = \"  + mediana_real)\n"
      ],
      "metadata": {
        "colab": {
          "base_uri": "https://localhost:8080/"
        },
        "id": "TCr9mYyIyO73",
        "outputId": "4d427b04-4c14-4fc7-8fce-205bf44dc934"
      },
      "execution_count": 86,
      "outputs": [
        {
          "output_type": "stream",
          "name": "stdout",
          "text": [
            "La mediana es = 0.0\n"
          ]
        }
      ]
    },
    {
      "cell_type": "code",
      "source": [
        "# Desviación estándar \n",
        "\n",
        "suma_numerador = 0\n",
        "for elemento in itching_row:\n",
        "  suma_numerador = suma_numerador + elemento\n",
        "\n",
        "suma_numerador_cuadrada = suma_numerador**2\n",
        "std = str(pow(suma_numerador_cuadrada/n,1/2))\n",
        "\n",
        "print(\"La desviación estandar es = \" + std)"
      ],
      "metadata": {
        "colab": {
          "base_uri": "https://localhost:8080/"
        },
        "id": "UgEUMXDX6SZN",
        "outputId": "1ef06b05-48bd-4c8e-dcda-2569a1d4ceb9"
      },
      "execution_count": 57,
      "outputs": [
        {
          "output_type": "stream",
          "name": "stdout",
          "text": [
            "La desviación estandar es = 1.0801234497346435\n"
          ]
        }
      ]
    },
    {
      "cell_type": "code",
      "source": [
        "from scipy.stats import shapiro"
      ],
      "metadata": {
        "id": "p7G6Bu7i_Yko"
      },
      "execution_count": 87,
      "outputs": []
    },
    {
      "cell_type": "code",
      "source": [
        "shapiro_test = shapiro(itching_row)\n",
        "pvalue = shapiro_test.pvalue\n",
        "pvalue #imprimir pvalor "
      ],
      "metadata": {
        "colab": {
          "base_uri": "https://localhost:8080/"
        },
        "id": "IJ6dCrCWDOPQ",
        "outputId": "f5852c5e-b082-4b61-c1b0-abeeffc02640"
      },
      "execution_count": 88,
      "outputs": [
        {
          "output_type": "execute_result",
          "data": {
            "text/plain": [
              "2.4172422743995448e-11"
            ]
          },
          "metadata": {},
          "execution_count": 88
        }
      ]
    },
    {
      "cell_type": "code",
      "source": [
        "#Ho = Los datos pertenecen a una distribución normal con media de 0.19047619047619047 y desviación estándar de 1.0801234497346435\n",
        "#Ha = Los datos No pertenecen a una distribución normal con media de 0.19047619047619047 y desviación estándar de 1.0801234497346435\n",
        "\n",
        "# Rechazo Ho si pvalor < .05\n",
        "\n",
        "alpha = .05\n",
        "\n",
        "if pvalue < alpha:\n",
        "  print(\"No hay evidencia para decir que el set de datos pertenece a una distribución normal\")\n",
        "\n",
        "else:\n",
        "  print(\"Existe evidencia para decir que el set de datos pertenece a una distribución Normal\")\n"
      ],
      "metadata": {
        "colab": {
          "base_uri": "https://localhost:8080/"
        },
        "id": "7fGUkdBHAf-p",
        "outputId": "9cfe1061-c4f1-423b-a49e-fa3a80ff3878"
      },
      "execution_count": 81,
      "outputs": [
        {
          "output_type": "stream",
          "name": "stdout",
          "text": [
            "No hay evidencia para decir que el set de datos pertenece a una distribución normal\n"
          ]
        }
      ]
    }
  ]
}