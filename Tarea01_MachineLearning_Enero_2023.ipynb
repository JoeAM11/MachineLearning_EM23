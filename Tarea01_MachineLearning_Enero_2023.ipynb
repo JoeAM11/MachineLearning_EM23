{
  "nbformat": 4,
  "nbformat_minor": 0,
  "metadata": {
    "colab": {
      "provenance": [],
      "authorship_tag": "ABX9TyOtf05yTY9aJGJ66S5ImOkA",
      "include_colab_link": true
    },
    "kernelspec": {
      "name": "python3",
      "display_name": "Python 3"
    },
    "language_info": {
      "name": "python"
    }
  },
  "cells": [
    {
      "cell_type": "markdown",
      "metadata": {
        "id": "view-in-github",
        "colab_type": "text"
      },
      "source": [
        "<a href=\"https://colab.research.google.com/github/JoeAM11/MachineLearning_EM23/blob/main/Tarea01_MachineLearning_Enero_2023.ipynb\" target=\"_parent\"><img src=\"https://colab.research.google.com/assets/colab-badge.svg\" alt=\"Open In Colab\"/></a>"
      ]
    },
    {
      "cell_type": "markdown",
      "source": [
        "# **Tarea 1 - Selección y justificación dataset**\n",
        "Joel Alejandro Rodarte Rivera <br>\n",
        "15/01/2023 \n",
        "\n",
        "---\n",
        "\n",
        "El conjunto de datos que estare utilizando serà el de la siguiente liga <br>\n",
        "\n",
        "https://www.kaggle.com/datasets/kaushil268/disease-prediction-using-machine-learning\n",
        "\n",
        "#### Justificación\n",
        "\n",
        "1.   La base de datos es extensa (132 sintomas y 42 enfermedades). Considero que puede ser una buena cantidad de variables para poder aplicar distintos técnicas de machine learning. (Por confirmar con el profesor) \n",
        "2.   Esta base de datos además de los conocmientos que generaré en machine learning, expandirá mi curiosidad por temas médicos que me son de interés pero no había tenido oportunidad de investigar a fondo. Esta información es nueva para mí y me motiva a obtener respuestas y expandir mi conocimiento. \n",
        "3.   Este es mi primer acercamiento al machine learning y dado el tiempo que estarémos trabajando la base de datos se me hace adecuado, según comentarios de internet, esta es una buena base de datos para comenzar a desarollar esta habilidad. \n",
        "\n",
        "#### Objetivos\n",
        "1.   Obtener un modelo de machine learning que dado los síntomas de un paciente logre predecir cual es la enfermedad que puede estar sufriendo con exactitiud. \n",
        "2.   El camino para llegar a la predicción es importante. Por el momento no tengo muy claro cuantos métodos de machine learning estaremos practicando en clase pero la intención de este proyecto será comparar los resultados de utilizar al menos tres técnicas diferentes y ver cuál es más eficiente para este problema en particular. \n",
        "3.   Entender los pasos necesarios de pre procesamiento de datos como la limpieza y ordenamiento de los datos. \n",
        "4.  Entender, en la medida de lo posible, la matemática que exista detrás de los métodos evaluados. La intención es saber justificar porque utilizar tal o cual método. \n",
        "5. Entender los pasos en el post procesamiento de resultados. Entender cómo interpretar los resultados del modelo que genere con ML. \n",
        "\n",
        "\n",
        "### Dudas \n",
        "\n",
        "1. ¿Será adecuada utilizar una base de datos que solo contiene 0 y 1 para indicar la presencia de una síntoma? ¿Debería buscar alguna otra base de datos que tenga variables de diferentes tipos? \n",
        "\n",
        "ALgunas bases de datos alternativas en caso que la respuesta anterior sea positiva, y que son de mi interés son las siguientes: \n",
        "\n",
        "https://www.kaggle.com/datasets/alopez247/pokemon\n",
        "\n",
        "https://www.kaggle.com/datasets/clmentbisaillon/fake-and-real-news-dataset?select=Fake.csv\n",
        "\n",
        "https://www.kaggle.com/datasets/rikdifos/credit-card-approval-prediction\n",
        "\n",
        "\n",
        "\n"
      ],
      "metadata": {
        "id": "DjAHRdDZyfYs"
      }
    },
    {
      "cell_type": "markdown",
      "source": [],
      "metadata": {
        "id": "AJdZcG0_za7x"
      }
    }
  ]
}