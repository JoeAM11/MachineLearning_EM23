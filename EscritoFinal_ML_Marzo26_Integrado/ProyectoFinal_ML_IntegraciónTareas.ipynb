{
  "nbformat": 4,
  "nbformat_minor": 0,
  "metadata": {
    "colab": {
      "provenance": [],
      "authorship_tag": "ABX9TyMMrbEk2j9Ga9Jm4WV4b2Df",
      "include_colab_link": true
    },
    "kernelspec": {
      "name": "python3",
      "display_name": "Python 3"
    },
    "language_info": {
      "name": "python"
    }
  },
  "cells": [
    {
      "cell_type": "markdown",
      "metadata": {
        "id": "view-in-github",
        "colab_type": "text"
      },
      "source": [
        "<a href=\"https://colab.research.google.com/github/JoeAM11/MachineLearning_EM23/blob/main/ProyectoFinal_ML_Integraci%C3%B3nTareas.ipynb\" target=\"_parent\"><img src=\"https://colab.research.google.com/assets/colab-badge.svg\" alt=\"Open In Colab\"/></a>"
      ]
    },
    {
      "cell_type": "code",
      "execution_count": 1,
      "metadata": {
        "colab": {
          "base_uri": "https://localhost:8080/"
        },
        "id": "YD4139v7VSp7",
        "outputId": "99669aa0-1713-4983-e968-abb33b46268d"
      },
      "outputs": [
        {
          "output_type": "stream",
          "name": "stdout",
          "text": [
            "Cloning into 'MachineLearning_EM23'...\n",
            "remote: Enumerating objects: 135, done.\u001b[K\n",
            "remote: Counting objects: 100% (132/132), done.\u001b[K\n",
            "remote: Compressing objects: 100% (91/91), done.\u001b[K\n",
            "remote: Total 135 (delta 51), reused 81 (delta 35), pack-reused 3\u001b[K\n",
            "Receiving objects: 100% (135/135), 2.43 MiB | 10.45 MiB/s, done.\n",
            "Resolving deltas: 100% (51/51), done.\n"
          ]
        }
      ],
      "source": [
        "! git clone https://github.com/JoeAM11/MachineLearning_EM23.git\n"
      ]
    },
    {
      "cell_type": "code",
      "source": [
        "# Librerías\n",
        "\n",
        "import pandas as pd\n",
        "import matplotlib.pyplot as plt\n",
        "from google.colab import files\n",
        "from sklearn.cluster import KMeans"
      ],
      "metadata": {
        "id": "CbgKbk4IYLa8"
      },
      "execution_count": 2,
      "outputs": []
    },
    {
      "cell_type": "code",
      "source": [
        "# dataframe con toda la información. Antes de partir en entrenamiento y testing\n",
        "df = pd.read_csv('/content/MachineLearning_EM23/prognosis.csv')\n",
        "\n",
        "# dataframe sin la prognosis, para que no entre en los siguientes conteos. \n",
        "df_noprog = df.iloc[:, :-1]"
      ],
      "metadata": {
        "id": "0AeAbZ4EX0iZ"
      },
      "execution_count": 3,
      "outputs": []
    },
    {
      "cell_type": "code",
      "source": [
        "# Tabla de conteos de cuantas veces se tiene la presencia de un sítnoma, sin importar la enfermedad. \n",
        "# Estos podrías llegar a ser los menos relevantes para determinar una enfermedad, dado son los más comúnes, lo cuál quiere decir que se puede confundir entre enfermedades. \n",
        "col_sum = df_noprog.sum(axis=0).sort_values(ascending=False)\n",
        "\n",
        "col_sum_top10 = col_sum[0:10]\n",
        "col_sum_top10\n",
        "\n",
        "#fig = plt.figure(figsize=(30, 30), dpi=10)\n",
        "\n",
        "\n",
        "\n",
        "plt.bar(col_sum_top10.index, col_sum_top10.values)\n",
        "\n",
        "# Add title and axis labels\n",
        "plt.xlabel('Sítnomas')\n",
        "plt.xticks(rotation=90)\n",
        "plt.xticks(fontsize=15)\n",
        "plt.yticks(fontsize=15)\n",
        "plt.ylabel('Frequencia')\n",
        "plt.tight_layout()\n",
        "plt.savefig(\"FrecuenciaSintomas.pdf\")\n",
        "files.download(\"FrecuenciaSintomas.pdf\")\n",
        "\n"
      ],
      "metadata": {
        "colab": {
          "base_uri": "https://localhost:8080/",
          "height": 299
        },
        "id": "sKIwXhsfYX_8",
        "outputId": "633d9b51-3e48-4d6b-b7e0-ce6135dfe081"
      },
      "execution_count": 7,
      "outputs": [
        {
          "output_type": "display_data",
          "data": {
            "text/plain": [
              "<IPython.core.display.Javascript object>"
            ],
            "application/javascript": [
              "\n",
              "    async function download(id, filename, size) {\n",
              "      if (!google.colab.kernel.accessAllowed) {\n",
              "        return;\n",
              "      }\n",
              "      const div = document.createElement('div');\n",
              "      const label = document.createElement('label');\n",
              "      label.textContent = `Downloading \"${filename}\": `;\n",
              "      div.appendChild(label);\n",
              "      const progress = document.createElement('progress');\n",
              "      progress.max = size;\n",
              "      div.appendChild(progress);\n",
              "      document.body.appendChild(div);\n",
              "\n",
              "      const buffers = [];\n",
              "      let downloaded = 0;\n",
              "\n",
              "      const channel = await google.colab.kernel.comms.open(id);\n",
              "      // Send a message to notify the kernel that we're ready.\n",
              "      channel.send({})\n",
              "\n",
              "      for await (const message of channel.messages) {\n",
              "        // Send a message to notify the kernel that we're ready.\n",
              "        channel.send({})\n",
              "        if (message.buffers) {\n",
              "          for (const buffer of message.buffers) {\n",
              "            buffers.push(buffer);\n",
              "            downloaded += buffer.byteLength;\n",
              "            progress.value = downloaded;\n",
              "          }\n",
              "        }\n",
              "      }\n",
              "      const blob = new Blob(buffers, {type: 'application/binary'});\n",
              "      const a = document.createElement('a');\n",
              "      a.href = window.URL.createObjectURL(blob);\n",
              "      a.download = filename;\n",
              "      div.appendChild(a);\n",
              "      a.click();\n",
              "      div.remove();\n",
              "    }\n",
              "  "
            ]
          },
          "metadata": {}
        },
        {
          "output_type": "display_data",
          "data": {
            "text/plain": [
              "<IPython.core.display.Javascript object>"
            ],
            "application/javascript": [
              "download(\"download_6740afc7-dfa1-4e3f-bc69-ebbbeb021ea0\", \"FrecuenciaSintomas.pdf\", 13094)"
            ]
          },
          "metadata": {}
        },
        {
          "output_type": "display_data",
          "data": {
            "text/plain": [
              "<Figure size 432x288 with 1 Axes>"
            ],
            "image/png": "[encoded data removed]"
          },
          "metadata": {
            "needs_background": "light"
          }
        }
      ]
    },
    {
      "cell_type": "code",
      "source": [
        "# Tabla de conteos de cuántas veces se tiene la presencia de un síntoma cuando se sabe existe diabetes\n",
        "# Estos síntmas son los que más se repiten y hay que prestar especial atención. \n",
        "\n",
        "df_diabetes = df.groupby(\"prognosis\") \n",
        "df_diabetes_positive = df_diabetes.get_group(1)\n",
        "df_diabetes_positive_noprog = df_diabetes_positive.iloc[:, :-1]\n",
        "\n",
        "col_sum_diabetes = df_diabetes_positive_noprog.sum(axis=0).sort_values(ascending=False)\n",
        "\n",
        "#Los 10 síntomas presentes en la diabetes\n",
        "col_sum_diabetes[0:10]"
      ],
      "metadata": {
        "colab": {
          "base_uri": "https://localhost:8080/"
        },
        "id": "b3fNqZdwYfas",
        "outputId": "b0f0f718-d555-4172-a038-8fbe577669ec"
      },
      "execution_count": 13,
      "outputs": [
        {
          "output_type": "execute_result",
          "data": {
            "text/plain": [
              "increased_appetite              120\n",
              "polyuria                        120\n",
              "weight_loss                     114\n",
              "irregular_sugar_level           114\n",
              "blurred_and_distorted_vision    114\n",
              "fatigue                         114\n",
              "lethargy                        114\n",
              "restlessness                    114\n",
              "excessive_hunger                114\n",
              "obesity                         114\n",
              "dtype: int64"
            ]
          },
          "metadata": {},
          "execution_count": 13
        }
      ]
    },
    {
      "cell_type": "code",
      "source": [
        "# Que tan comunes son los síntomas de la diabetes en otras prognosis\n",
        "\n",
        "# Del df completo, solo sacar las columnas de los sintomas de diabetes\n",
        "df_noprog_diabetes = df_noprog[[\"increased_appetite\",\"polyuria\",\"weight_loss\",\"irregular_sugar_level\",\"blurred_and_distorted_vision\",\"fatigue\",\"lethargy\",\"restlessness\",\"excessive_hunger\",\"obesity\"]]\n",
        "\n",
        "# Del df de los que se sabe SI tienen diabetes, solo sacar las columnas de los síntomas de diabetes\n",
        "df_diabetes_positive_noprog_symptoms = df_diabetes_positive_noprog[[\"increased_appetite\",\"polyuria\",\"weight_loss\",\"irregular_sugar_level\",\"blurred_and_distorted_vision\",\"fatigue\",\"lethargy\",\"restlessness\",\"excessive_hunger\",\"obesity\"]]\n",
        "\n",
        "\n",
        "col_sum_df_noprog_diabetes = df_noprog_diabetes.sum(axis=0)\n",
        "col_sum_df_noprog_diabetes\n",
        "\n",
        "\n",
        "col_sum_df_diabetes_positive_noprog_symptoms = df_diabetes_positive_noprog_symptoms.sum(axis=0).sort_values(ascending=False)\n",
        "col_sum_df_diabetes_positive_noprog_symptoms\n",
        "\n",
        "df_t = pd.DataFrame()\n",
        "df_t[\"Síntoma\"] = col_sum_df_diabetes_positive_noprog_symptoms.index\n",
        "df_t[\"Frecuencia Total\"] = col_sum_df_noprog_diabetes.values\n",
        "df_t[\"Frecuencia positivo diabetes\"] = col_sum_df_diabetes_positive_noprog_symptoms.values\n",
        "df_t[\"Proporción\"] = col_sum_df_diabetes_positive_noprog_symptoms.values / col_sum_df_noprog_diabetes.values \n",
        "\n",
        "df_t\n",
        "\n",
        "# Entre más alto esté la proporción, es un indicador de los síntomas que más podrían ayudar a determinar la existencia de diabetes dado que son síntomas que solo están presentes en esa enferdad y ninguna otra. \n",
        "# Esperaría que las variables cercanas a 1 tengan alta correlación con la presencia de de diabetes \n",
        "# Esto solo lo realicé para los 10 síntomas más comunes de diabetes. \n"
      ],
      "metadata": {
        "colab": {
          "base_uri": "https://localhost:8080/",
          "height": 363
        },
        "id": "EHgaB9lUYmx_",
        "outputId": "2284cb66-9c90-47d9-bd42-0bb233394036"
      },
      "execution_count": 14,
      "outputs": [
        {
          "output_type": "execute_result",
          "data": {
            "text/plain": [
              "                        Síntoma  Frecuencia Total  \\\n",
              "0            increased_appetite               120   \n",
              "1                      polyuria               120   \n",
              "2                   weight_loss               456   \n",
              "3         irregular_sugar_level               114   \n",
              "4  blurred_and_distorted_vision               342   \n",
              "5                       fatigue              1932   \n",
              "6                      lethargy               456   \n",
              "7                  restlessness               228   \n",
              "8              excessive_hunger               462   \n",
              "9                       obesity               228   \n",
              "\n",
              "   Frecuencia positivo diabetes  Proporción  \n",
              "0                           120    1.000000  \n",
              "1                           120    1.000000  \n",
              "2                           114    0.250000  \n",
              "3                           114    1.000000  \n",
              "4                           114    0.333333  \n",
              "5                           114    0.059006  \n",
              "6                           114    0.250000  \n",
              "7                           114    0.500000  \n",
              "8                           114    0.246753  \n",
              "9                           114    0.500000  "
            ],
            "text/html": [
              "\n",
              "  <div id=\"df-c58cbe2b-a55a-4d8e-92a5-94e452637dcc\">\n",
              "    <div class=\"colab-df-container\">\n",
              "      <div>\n",
              "<style scoped>\n",
              "    .dataframe tbody tr th:only-of-type {\n",
              "        vertical-align: middle;\n",
              "    }\n",
              "\n",
              "    .dataframe tbody tr th {\n",
              "        vertical-align: top;\n",
              "    }\n",
              "\n",
              "    .dataframe thead th {\n",
              "        text-align: right;\n",
              "    }\n",
              "</style>\n",
              "<table border=\"1\" class=\"dataframe\">\n",
              "  <thead>\n",
              "    <tr style=\"text-align: right;\">\n",
              "      <th></th>\n",
              "      <th>Síntoma</th>\n",
              "      <th>Frecuencia Total</th>\n",
              "      <th>Frecuencia positivo diabetes</th>\n",
              "      <th>Proporción</th>\n",
              "    </tr>\n",
              "  </thead>\n",
              "  <tbody>\n",
              "    <tr>\n",
              "      <th>0</th>\n",
              "      <td>increased_appetite</td>\n",
              "      <td>120</td>\n",
              "      <td>120</td>\n",
              "      <td>1.000000</td>\n",
              "    </tr>\n",
              "    <tr>\n",
              "      <th>1</th>\n",
              "      <td>polyuria</td>\n",
              "      <td>120</td>\n",
              "      <td>120</td>\n",
              "      <td>1.000000</td>\n",
              "    </tr>\n",
              "    <tr>\n",
              "      <th>2</th>\n",
              "      <td>weight_loss</td>\n",
              "      <td>456</td>\n",
              "      <td>114</td>\n",
              "      <td>0.250000</td>\n",
              "    </tr>\n",
              "    <tr>\n",
              "      <th>3</th>\n",
              "      <td>irregular_sugar_level</td>\n",
              "      <td>114</td>\n",
              "      <td>114</td>\n",
              "      <td>1.000000</td>\n",
              "    </tr>\n",
              "    <tr>\n",
              "      <th>4</th>\n",
              "      <td>blurred_and_distorted_vision</td>\n",
              "      <td>342</td>\n",
              "      <td>114</td>\n",
              "      <td>0.333333</td>\n",
              "    </tr>\n",
              "    <tr>\n",
              "      <th>5</th>\n",
              "      <td>fatigue</td>\n",
              "      <td>1932</td>\n",
              "      <td>114</td>\n",
              "      <td>0.059006</td>\n",
              "    </tr>\n",
              "    <tr>\n",
              "      <th>6</th>\n",
              "      <td>lethargy</td>\n",
              "      <td>456</td>\n",
              "      <td>114</td>\n",
              "      <td>0.250000</td>\n",
              "    </tr>\n",
              "    <tr>\n",
              "      <th>7</th>\n",
              "      <td>restlessness</td>\n",
              "      <td>228</td>\n",
              "      <td>114</td>\n",
              "      <td>0.500000</td>\n",
              "    </tr>\n",
              "    <tr>\n",
              "      <th>8</th>\n",
              "      <td>excessive_hunger</td>\n",
              "      <td>462</td>\n",
              "      <td>114</td>\n",
              "      <td>0.246753</td>\n",
              "    </tr>\n",
              "    <tr>\n",
              "      <th>9</th>\n",
              "      <td>obesity</td>\n",
              "      <td>228</td>\n",
              "      <td>114</td>\n",
              "      <td>0.500000</td>\n",
              "    </tr>\n",
              "  </tbody>\n",
              "</table>\n",
              "</div>\n",
              "      <button class=\"colab-df-convert\" onclick=\"convertToInteractive('df-c58cbe2b-a55a-4d8e-92a5-94e452637dcc')\"\n",
              "              title=\"Convert this dataframe to an interactive table.\"\n",
              "              style=\"display:none;\">\n",
              "        \n",
              "  <svg xmlns=\"http://www.w3.org/2000/svg\" height=\"24px\"viewBox=\"0 0 24 24\"\n",
              "       width=\"24px\">\n",
              "    <path d=\"M0 0h24v24H0V0z\" fill=\"none\"/>\n",
              "    <path d=\"M18.56 5.44l.94 2.06.94-2.06 2.06-.94-2.06-.94-.94-2.06-.94 2.06-2.06.94zm-11 1L8.5 8.5l.94-2.06 2.06-.94-2.06-.94L8.5 2.5l-.94 2.06-2.06.94zm10 10l.94 2.06.94-2.06 2.06-.94-2.06-.94-.94-2.06-.94 2.06-2.06.94z\"/><path d=\"M17.41 7.96l-1.37-1.37c-.4-.4-.92-.59-1.43-.59-.52 0-1.04.2-1.43.59L10.3 9.45l-7.72 7.72c-.78.78-.78 2.05 0 2.83L4 21.41c.39.39.9.59 1.41.59.51 0 1.02-.2 1.41-.59l7.78-7.78 2.81-2.81c.8-.78.8-2.07 0-2.86zM5.41 20L4 18.59l7.72-7.72 1.47 1.35L5.41 20z\"/>\n",
              "  </svg>\n",
              "      </button>\n",
              "      \n",
              "  <style>\n",
              "    .colab-df-container {\n",
              "      display:flex;\n",
              "      flex-wrap:wrap;\n",
              "      gap: 12px;\n",
              "    }\n",
              "\n",
              "    .colab-df-convert {\n",
              "      background-color: #E8F0FE;\n",
              "      border: none;\n",
              "      border-radius: 50%;\n",
              "      cursor: pointer;\n",
              "      display: none;\n",
              "      fill: #1967D2;\n",
              "      height: 32px;\n",
              "      padding: 0 0 0 0;\n",
              "      width: 32px;\n",
              "    }\n",
              "\n",
              "    .colab-df-convert:hover {\n",
              "      background-color: #E2EBFA;\n",
              "      box-shadow: 0px 1px 2px rgba(60, 64, 67, 0.3), 0px 1px 3px 1px rgba(60, 64, 67, 0.15);\n",
              "      fill: #174EA6;\n",
              "    }\n",
              "\n",
              "    [theme=dark] .colab-df-convert {\n",
              "      background-color: #3B4455;\n",
              "      fill: #D2E3FC;\n",
              "    }\n",
              "\n",
              "    [theme=dark] .colab-df-convert:hover {\n",
              "      background-color: #434B5C;\n",
              "      box-shadow: 0px 1px 3px 1px rgba(0, 0, 0, 0.15);\n",
              "      filter: drop-shadow(0px 1px 2px rgba(0, 0, 0, 0.3));\n",
              "      fill: #FFFFFF;\n",
              "    }\n",
              "  </style>\n",
              "\n",
              "      <script>\n",
              "        const buttonEl =\n",
              "          document.querySelector('#df-c58cbe2b-a55a-4d8e-92a5-94e452637dcc button.colab-df-convert');\n",
              "        buttonEl.style.display =\n",
              "          google.colab.kernel.accessAllowed ? 'block' : 'none';\n",
              "\n",
              "        async function convertToInteractive(key) {\n",
              "          const element = document.querySelector('#df-c58cbe2b-a55a-4d8e-92a5-94e452637dcc');\n",
              "          const dataTable =\n",
              "            await google.colab.kernel.invokeFunction('convertToInteractive',\n",
              "                                                     [key], {});\n",
              "          if (!dataTable) return;\n",
              "\n",
              "          const docLinkHtml = 'Like what you see? Visit the ' +\n",
              "            '<a target=\"_blank\" href=https://colab.research.google.com/notebooks/data_table.ipynb>data table notebook</a>'\n",
              "            + ' to learn more about interactive tables.';\n",
              "          element.innerHTML = '';\n",
              "          dataTable['output_type'] = 'display_data';\n",
              "          await google.colab.output.renderOutput(dataTable, element);\n",
              "          const docLink = document.createElement('div');\n",
              "          docLink.innerHTML = docLinkHtml;\n",
              "          element.appendChild(docLink);\n",
              "        }\n",
              "      </script>\n",
              "    </div>\n",
              "  </div>\n",
              "  "
            ]
          },
          "metadata": {},
          "execution_count": 14
        }
      ]
    },
    {
      "cell_type": "code",
      "source": [
        "# Correlación linear entre los sítnomasmás comunes y diabetes para mi conjunto de datos\n",
        "  # Aquí importante destacar como los tres síntomas principales tienen alta correlación, comentar de de los demás tambén. \n",
        "\n",
        "# df con todos los registros pero solo los síntomas de diabetes\n",
        "df_prog_diabetes = pd.DataFrame()\n",
        "df_prog_diabetes = df_noprog_diabetes\n",
        "df_prog_diabetes[\"prognosis\"] = df.prognosis\n",
        "\n",
        "\n",
        "plt.figure(figsize = (15, 15)) # Ajustar a una imagen más grando dado tengo 133 variables \n",
        "corr_complete = df_prog_diabetes.corr()\n",
        "ticks_ = list(range(len(df_prog_diabetes.columns))) # Para saber cuantas particiónes necesito, es decir cuantas variables haré la correlación \n",
        "plt.imshow(corr_complete)\n",
        "plt.xticks(ticks = ticks_, labels = df_prog_diabetes.columns, rotation = 90)\n",
        "plt.yticks(ticks = ticks_, labels = df_prog_diabetes.columns)\n",
        "plt.clim(vmin = -1, vmax = 1)\n",
        "plt.colorbar()\n",
        "for i in range(len(corr_complete.columns)):\n",
        "    plt.axhline(y=i, color='white', linewidth=1)\n",
        "    plt.axvline(x=i, color='white', linewidth=1)\n",
        "plt.tight_layout()\n",
        "plt.xticks(fontsize=15)\n",
        "plt.yticks(fontsize=15)\n",
        "plt.savefig(\"correl.pdf\")\n",
        "files.download(\"correl.pdf\")\n",
        "\n",
        "# Conectar esto con correlation based feature selection \n",
        "# CBFS solo toma en cuenta las relaciónes uno a uno de las variables e ignora lo que puedan aportar variables a la predicción cuando interaccionan entre ellas\n",
        "# CBFS es un feature selection lineal mientras que Mutual informaton based feature selection es no lineal. \n"
      ],
      "metadata": {
        "colab": {
          "base_uri": "https://localhost:8080/",
          "height": 1000
        },
        "id": "jBaP6XabifCN",
        "outputId": "39920648-caa3-4866-af56-e84381ac58c0"
      },
      "execution_count": 16,
      "outputs": [
        {
          "output_type": "stream",
          "name": "stderr",
          "text": [
            "<ipython-input-16-b4e77457d916>:7: SettingWithCopyWarning: \n",
            "A value is trying to be set on a copy of a slice from a DataFrame.\n",
            "Try using .loc[row_indexer,col_indexer] = value instead\n",
            "\n",
            "See the caveats in the documentation: https://pandas.pydata.org/pandas-docs/stable/user_guide/indexing.html#returning-a-view-versus-a-copy\n",
            "  df_prog_diabetes[\"prognosis\"] = df.prognosis\n"
          ]
        },
        {
          "output_type": "display_data",
          "data": {
            "text/plain": [
              "<IPython.core.display.Javascript object>"
            ],
            "application/javascript": [
              "\n",
              "    async function download(id, filename, size) {\n",
              "      if (!google.colab.kernel.accessAllowed) {\n",
              "        return;\n",
              "      }\n",
              "      const div = document.createElement('div');\n",
              "      const label = document.createElement('label');\n",
              "      label.textContent = `Downloading \"${filename}\": `;\n",
              "      div.appendChild(label);\n",
              "      const progress = document.createElement('progress');\n",
              "      progress.max = size;\n",
              "      div.appendChild(progress);\n",
              "      document.body.appendChild(div);\n",
              "\n",
              "      const buffers = [];\n",
              "      let downloaded = 0;\n",
              "\n",
              "      const channel = await google.colab.kernel.comms.open(id);\n",
              "      // Send a message to notify the kernel that we're ready.\n",
              "      channel.send({})\n",
              "\n",
              "      for await (const message of channel.messages) {\n",
              "        // Send a message to notify the kernel that we're ready.\n",
              "        channel.send({})\n",
              "        if (message.buffers) {\n",
              "          for (const buffer of message.buffers) {\n",
              "            buffers.push(buffer);\n",
              "            downloaded += buffer.byteLength;\n",
              "            progress.value = downloaded;\n",
              "          }\n",
              "        }\n",
              "      }\n",
              "      const blob = new Blob(buffers, {type: 'application/binary'});\n",
              "      const a = document.createElement('a');\n",
              "      a.href = window.URL.createObjectURL(blob);\n",
              "      a.download = filename;\n",
              "      div.appendChild(a);\n",
              "      a.click();\n",
              "      div.remove();\n",
              "    }\n",
              "  "
            ]
          },
          "metadata": {}
        },
        {
          "output_type": "display_data",
          "data": {
            "text/plain": [
              "<IPython.core.display.Javascript object>"
            ],
            "application/javascript": [
              "download(\"download_656c112e-36df-4bfa-97ba-4cd1d95f6f53\", \"correl.pdf\", 19461)"
            ]
          },
          "metadata": {}
        },
        {
          "output_type": "display_data",
          "data": {
            "text/plain": [
              "<Figure size 1080x1080 with 2 Axes>"
            ],
            "image/png": "[encoded data removed]"
          },
          "metadata": {
            "needs_background": "light"
          }
        }
      ]
    },
    {
      "cell_type": "code",
      "source": [
        "corr_complete"
      ],
      "metadata": {
        "colab": {
          "base_uri": "https://localhost:8080/",
          "height": 394
        },
        "id": "-afEiQN1Nckp",
        "outputId": "8dfe188f-f57f-41dd-ab0d-bdfa0acc8e24"
      },
      "execution_count": null,
      "outputs": [
        {
          "output_type": "execute_result",
          "data": {
            "text/plain": [
              "                              increased_appetite  polyuria  weight_loss  \\\n",
              "increased_appetite                      1.000000  1.000000     0.467447   \n",
              "polyuria                                1.000000  1.000000     0.467447   \n",
              "weight_loss                             0.467447  0.467447     1.000000   \n",
              "irregular_sugar_level                   0.974071  0.974071     0.453929   \n",
              "blurred_and_distorted_vision            0.547403  0.547403     0.210285   \n",
              "fatigue                                 0.180444  0.180444     0.363027   \n",
              "lethargy                                0.467447  0.467447     0.158885   \n",
              "restlessness                            0.679662  0.679662     0.649704   \n",
              "excessive_hunger                        0.464053  0.464053     0.416130   \n",
              "obesity                                 0.679662  0.679662     0.289625   \n",
              "prognosis                               1.000000  1.000000     0.467447   \n",
              "\n",
              "                              irregular_sugar_level  \\\n",
              "increased_appetite                         0.974071   \n",
              "polyuria                                   0.974071   \n",
              "weight_loss                                0.453929   \n",
              "irregular_sugar_level                      1.000000   \n",
              "blurred_and_distorted_vision               0.531616   \n",
              "fatigue                                    0.174936   \n",
              "lethargy                                   0.453929   \n",
              "restlessness                               0.660111   \n",
              "excessive_hunger                           0.450631   \n",
              "obesity                                    0.660111   \n",
              "prognosis                                  0.974071   \n",
              "\n",
              "                              blurred_and_distorted_vision   fatigue  \\\n",
              "increased_appetite                                0.547403  0.180444   \n",
              "polyuria                                          0.547403  0.180444   \n",
              "weight_loss                                       0.210285  0.363027   \n",
              "irregular_sugar_level                             0.531616  0.174936   \n",
              "blurred_and_distorted_vision                      1.000000  0.133707   \n",
              "fatigue                                           0.133707  1.000000   \n",
              "lethargy                                          0.210285  0.354415   \n",
              "restlessness                                      0.350323  0.250384   \n",
              "excessive_hunger                                  0.816154  0.212003   \n",
              "obesity                                           0.350323  0.250384   \n",
              "prognosis                                         0.547403  0.180444   \n",
              "\n",
              "                              lethargy  restlessness  excessive_hunger  \\\n",
              "increased_appetite            0.467447      0.679662          0.464053   \n",
              "polyuria                      0.467447      0.679662          0.464053   \n",
              "weight_loss                   0.158885      0.649704          0.416130   \n",
              "irregular_sugar_level         0.453929      0.660111          0.450631   \n",
              "blurred_and_distorted_vision  0.210285      0.350323          0.816154   \n",
              "fatigue                       0.354415      0.250384          0.212003   \n",
              "lethargy                      1.000000      0.289625          0.156620   \n",
              "restlessness                  0.289625      1.000000          0.644984   \n",
              "excessive_hunger              0.156620      0.644984          1.000000   \n",
              "obesity                       0.289625      0.448109          0.287010   \n",
              "prognosis                     0.467447      0.679662          0.464053   \n",
              "\n",
              "                               obesity  prognosis  \n",
              "increased_appetite            0.679662   1.000000  \n",
              "polyuria                      0.679662   1.000000  \n",
              "weight_loss                   0.289625   0.467447  \n",
              "irregular_sugar_level         0.660111   0.974071  \n",
              "blurred_and_distorted_vision  0.350323   0.547403  \n",
              "fatigue                       0.250384   0.180444  \n",
              "lethargy                      0.289625   0.467447  \n",
              "restlessness                  0.448109   0.679662  \n",
              "excessive_hunger              0.287010   0.464053  \n",
              "obesity                       1.000000   0.679662  \n",
              "prognosis                     0.679662   1.000000  "
            ],
            "text/html": [
              "\n",
              "  <div id=\"df-1a23091d-5991-4f13-a9b1-2b6cc929966d\">\n",
              "    <div class=\"colab-df-container\">\n",
              "      <div>\n",
              "<style scoped>\n",
              "    .dataframe tbody tr th:only-of-type {\n",
              "        vertical-align: middle;\n",
              "    }\n",
              "\n",
              "    .dataframe tbody tr th {\n",
              "        vertical-align: top;\n",
              "    }\n",
              "\n",
              "    .dataframe thead th {\n",
              "        text-align: right;\n",
              "    }\n",
              "</style>\n",
              "<table border=\"1\" class=\"dataframe\">\n",
              "  <thead>\n",
              "    <tr style=\"text-align: right;\">\n",
              "      <th></th>\n",
              "      <th>increased_appetite</th>\n",
              "      <th>polyuria</th>\n",
              "      <th>weight_loss</th>\n",
              "      <th>irregular_sugar_level</th>\n",
              "      <th>blurred_and_distorted_vision</th>\n",
              "      <th>fatigue</th>\n",
              "      <th>lethargy</th>\n",
              "      <th>restlessness</th>\n",
              "      <th>excessive_hunger</th>\n",
              "      <th>obesity</th>\n",
              "      <th>prognosis</th>\n",
              "    </tr>\n",
              "  </thead>\n",
              "  <tbody>\n",
              "    <tr>\n",
              "      <th>increased_appetite</th>\n",
              "      <td>1.000000</td>\n",
              "      <td>1.000000</td>\n",
              "      <td>0.467447</td>\n",
              "      <td>0.974071</td>\n",
              "      <td>0.547403</td>\n",
              "      <td>0.180444</td>\n",
              "      <td>0.467447</td>\n",
              "      <td>0.679662</td>\n",
              "      <td>0.464053</td>\n",
              "      <td>0.679662</td>\n",
              "      <td>1.000000</td>\n",
              "    </tr>\n",
              "    <tr>\n",
              "      <th>polyuria</th>\n",
              "      <td>1.000000</td>\n",
              "      <td>1.000000</td>\n",
              "      <td>0.467447</td>\n",
              "      <td>0.974071</td>\n",
              "      <td>0.547403</td>\n",
              "      <td>0.180444</td>\n",
              "      <td>0.467447</td>\n",
              "      <td>0.679662</td>\n",
              "      <td>0.464053</td>\n",
              "      <td>0.679662</td>\n",
              "      <td>1.000000</td>\n",
              "    </tr>\n",
              "    <tr>\n",
              "      <th>weight_loss</th>\n",
              "      <td>0.467447</td>\n",
              "      <td>0.467447</td>\n",
              "      <td>1.000000</td>\n",
              "      <td>0.453929</td>\n",
              "      <td>0.210285</td>\n",
              "      <td>0.363027</td>\n",
              "      <td>0.158885</td>\n",
              "      <td>0.649704</td>\n",
              "      <td>0.416130</td>\n",
              "      <td>0.289625</td>\n",
              "      <td>0.467447</td>\n",
              "    </tr>\n",
              "    <tr>\n",
              "      <th>irregular_sugar_level</th>\n",
              "      <td>0.974071</td>\n",
              "      <td>0.974071</td>\n",
              "      <td>0.453929</td>\n",
              "      <td>1.000000</td>\n",
              "      <td>0.531616</td>\n",
              "      <td>0.174936</td>\n",
              "      <td>0.453929</td>\n",
              "      <td>0.660111</td>\n",
              "      <td>0.450631</td>\n",
              "      <td>0.660111</td>\n",
              "      <td>0.974071</td>\n",
              "    </tr>\n",
              "    <tr>\n",
              "      <th>blurred_and_distorted_vision</th>\n",
              "      <td>0.547403</td>\n",
              "      <td>0.547403</td>\n",
              "      <td>0.210285</td>\n",
              "      <td>0.531616</td>\n",
              "      <td>1.000000</td>\n",
              "      <td>0.133707</td>\n",
              "      <td>0.210285</td>\n",
              "      <td>0.350323</td>\n",
              "      <td>0.816154</td>\n",
              "      <td>0.350323</td>\n",
              "      <td>0.547403</td>\n",
              "    </tr>\n",
              "    <tr>\n",
              "      <th>fatigue</th>\n",
              "      <td>0.180444</td>\n",
              "      <td>0.180444</td>\n",
              "      <td>0.363027</td>\n",
              "      <td>0.174936</td>\n",
              "      <td>0.133707</td>\n",
              "      <td>1.000000</td>\n",
              "      <td>0.354415</td>\n",
              "      <td>0.250384</td>\n",
              "      <td>0.212003</td>\n",
              "      <td>0.250384</td>\n",
              "      <td>0.180444</td>\n",
              "    </tr>\n",
              "    <tr>\n",
              "      <th>lethargy</th>\n",
              "      <td>0.467447</td>\n",
              "      <td>0.467447</td>\n",
              "      <td>0.158885</td>\n",
              "      <td>0.453929</td>\n",
              "      <td>0.210285</td>\n",
              "      <td>0.354415</td>\n",
              "      <td>1.000000</td>\n",
              "      <td>0.289625</td>\n",
              "      <td>0.156620</td>\n",
              "      <td>0.289625</td>\n",
              "      <td>0.467447</td>\n",
              "    </tr>\n",
              "    <tr>\n",
              "      <th>restlessness</th>\n",
              "      <td>0.679662</td>\n",
              "      <td>0.679662</td>\n",
              "      <td>0.649704</td>\n",
              "      <td>0.660111</td>\n",
              "      <td>0.350323</td>\n",
              "      <td>0.250384</td>\n",
              "      <td>0.289625</td>\n",
              "      <td>1.000000</td>\n",
              "      <td>0.644984</td>\n",
              "      <td>0.448109</td>\n",
              "      <td>0.679662</td>\n",
              "    </tr>\n",
              "    <tr>\n",
              "      <th>excessive_hunger</th>\n",
              "      <td>0.464053</td>\n",
              "      <td>0.464053</td>\n",
              "      <td>0.416130</td>\n",
              "      <td>0.450631</td>\n",
              "      <td>0.816154</td>\n",
              "      <td>0.212003</td>\n",
              "      <td>0.156620</td>\n",
              "      <td>0.644984</td>\n",
              "      <td>1.000000</td>\n",
              "      <td>0.287010</td>\n",
              "      <td>0.464053</td>\n",
              "    </tr>\n",
              "    <tr>\n",
              "      <th>obesity</th>\n",
              "      <td>0.679662</td>\n",
              "      <td>0.679662</td>\n",
              "      <td>0.289625</td>\n",
              "      <td>0.660111</td>\n",
              "      <td>0.350323</td>\n",
              "      <td>0.250384</td>\n",
              "      <td>0.289625</td>\n",
              "      <td>0.448109</td>\n",
              "      <td>0.287010</td>\n",
              "      <td>1.000000</td>\n",
              "      <td>0.679662</td>\n",
              "    </tr>\n",
              "    <tr>\n",
              "      <th>prognosis</th>\n",
              "      <td>1.000000</td>\n",
              "      <td>1.000000</td>\n",
              "      <td>0.467447</td>\n",
              "      <td>0.974071</td>\n",
              "      <td>0.547403</td>\n",
              "      <td>0.180444</td>\n",
              "      <td>0.467447</td>\n",
              "      <td>0.679662</td>\n",
              "      <td>0.464053</td>\n",
              "      <td>0.679662</td>\n",
              "      <td>1.000000</td>\n",
              "    </tr>\n",
              "  </tbody>\n",
              "</table>\n",
              "</div>\n",
              "      <button class=\"colab-df-convert\" onclick=\"convertToInteractive('df-1a23091d-5991-4f13-a9b1-2b6cc929966d')\"\n",
              "              title=\"Convert this dataframe to an interactive table.\"\n",
              "              style=\"display:none;\">\n",
              "        \n",
              "  <svg xmlns=\"http://www.w3.org/2000/svg\" height=\"24px\"viewBox=\"0 0 24 24\"\n",
              "       width=\"24px\">\n",
              "    <path d=\"M0 0h24v24H0V0z\" fill=\"none\"/>\n",
              "    <path d=\"M18.56 5.44l.94 2.06.94-2.06 2.06-.94-2.06-.94-.94-2.06-.94 2.06-2.06.94zm-11 1L8.5 8.5l.94-2.06 2.06-.94-2.06-.94L8.5 2.5l-.94 2.06-2.06.94zm10 10l.94 2.06.94-2.06 2.06-.94-2.06-.94-.94-2.06-.94 2.06-2.06.94z\"/><path d=\"M17.41 7.96l-1.37-1.37c-.4-.4-.92-.59-1.43-.59-.52 0-1.04.2-1.43.59L10.3 9.45l-7.72 7.72c-.78.78-.78 2.05 0 2.83L4 21.41c.39.39.9.59 1.41.59.51 0 1.02-.2 1.41-.59l7.78-7.78 2.81-2.81c.8-.78.8-2.07 0-2.86zM5.41 20L4 18.59l7.72-7.72 1.47 1.35L5.41 20z\"/>\n",
              "  </svg>\n",
              "      </button>\n",
              "      \n",
              "  <style>\n",
              "    .colab-df-container {\n",
              "      display:flex;\n",
              "      flex-wrap:wrap;\n",
              "      gap: 12px;\n",
              "    }\n",
              "\n",
              "    .colab-df-convert {\n",
              "      background-color: #E8F0FE;\n",
              "      border: none;\n",
              "      border-radius: 50%;\n",
              "      cursor: pointer;\n",
              "      display: none;\n",
              "      fill: #1967D2;\n",
              "      height: 32px;\n",
              "      padding: 0 0 0 0;\n",
              "      width: 32px;\n",
              "    }\n",
              "\n",
              "    .colab-df-convert:hover {\n",
              "      background-color: #E2EBFA;\n",
              "      box-shadow: 0px 1px 2px rgba(60, 64, 67, 0.3), 0px 1px 3px 1px rgba(60, 64, 67, 0.15);\n",
              "      fill: #174EA6;\n",
              "    }\n",
              "\n",
              "    [theme=dark] .colab-df-convert {\n",
              "      background-color: #3B4455;\n",
              "      fill: #D2E3FC;\n",
              "    }\n",
              "\n",
              "    [theme=dark] .colab-df-convert:hover {\n",
              "      background-color: #434B5C;\n",
              "      box-shadow: 0px 1px 3px 1px rgba(0, 0, 0, 0.15);\n",
              "      filter: drop-shadow(0px 1px 2px rgba(0, 0, 0, 0.3));\n",
              "      fill: #FFFFFF;\n",
              "    }\n",
              "  </style>\n",
              "\n",
              "      <script>\n",
              "        const buttonEl =\n",
              "          document.querySelector('#df-1a23091d-5991-4f13-a9b1-2b6cc929966d button.colab-df-convert');\n",
              "        buttonEl.style.display =\n",
              "          google.colab.kernel.accessAllowed ? 'block' : 'none';\n",
              "\n",
              "        async function convertToInteractive(key) {\n",
              "          const element = document.querySelector('#df-1a23091d-5991-4f13-a9b1-2b6cc929966d');\n",
              "          const dataTable =\n",
              "            await google.colab.kernel.invokeFunction('convertToInteractive',\n",
              "                                                     [key], {});\n",
              "          if (!dataTable) return;\n",
              "\n",
              "          const docLinkHtml = 'Like what you see? Visit the ' +\n",
              "            '<a target=\"_blank\" href=https://colab.research.google.com/notebooks/data_table.ipynb>data table notebook</a>'\n",
              "            + ' to learn more about interactive tables.';\n",
              "          element.innerHTML = '';\n",
              "          dataTable['output_type'] = 'display_data';\n",
              "          await google.colab.output.renderOutput(dataTable, element);\n",
              "          const docLink = document.createElement('div');\n",
              "          docLink.innerHTML = docLinkHtml;\n",
              "          element.appendChild(docLink);\n",
              "        }\n",
              "      </script>\n",
              "    </div>\n",
              "  </div>\n",
              "  "
            ]
          },
          "metadata": {},
          "execution_count": 10
        }
      ]
    },
    {
      "cell_type": "code",
      "source": [
        "a = df_diabetes_positive_noprog_symptoms"
      ],
      "metadata": {
        "id": "oUNf_yTQ2XVv"
      },
      "execution_count": 17,
      "outputs": []
    },
    {
      "cell_type": "code",
      "source": [
        "# De las tres variables que si o si estan en diabetes, tratar de entender en combinación con qué otras variables aparecen juntas (increaed apetite y polyuria)\n",
        "\n",
        "import pandas as pd\n",
        "\n",
        "\n",
        "# Create a dictionary to store the count of each symptom pair\n",
        "symptom_counts = {}\n",
        "\n",
        "# Iterate over each symptom in the dataframe\n",
        "for i, symptom in enumerate(a.columns):\n",
        "    # Iterate over the remaining symptoms in the dataframe\n",
        "    for j in range(i + 1, len(a.columns)):\n",
        "        # Create a key for the symptom pair\n",
        "        pair = symptom + '-' + a.columns[j]\n",
        "        # Initialize the count for the symptom pair to zero\n",
        "        symptom_counts[pair] = 0\n",
        "        # Iterate over each row in the dataframe\n",
        "        for index, row in a.iterrows():\n",
        "            # Check if the two symptoms appear together\n",
        "            if row[symptom] == 1 and row[a.columns[j]] == 1:\n",
        "                symptom_counts[pair] += 1\n",
        "\n",
        "# Print the count of each symptom pair\n",
        "for pair, count in symptom_counts.items():\n",
        "    print(pair + ':', count)\n",
        "\n",
        "# Aqui se empieza a sospechar que la información no es tan buena dado se sospecha hay muchos registros duplicados. Overfitting. \n",
        "\n",
        "  #increased_appetite-polyuria: 120\n",
        "  #increased_appetite-weight_loss: 114\n",
        "  #increased_appetite-irregular_sugar_level: 114\n",
        "  #increased_appetite-blurred_and_distorted_vision: 114\n",
        "  #increased_appetite-fatigue: 114\n",
        "  #increased_appetite-lethargy: 114\n",
        "  #increased_appetite-restlessness: 114\n",
        "  #increased_appetite-excessive_hunger: 114\n",
        "  #increased_appetite-obesity: 114\n",
        "  #polyuria-weight_loss: 114\n",
        "  #polyuria-irregular_sugar_level: 114\n",
        "  #polyuria-blurred_and_distorted_vision: 114\n",
        "  #polyuria-fatigue: 114\n",
        "  #polyuria-lethargy: 114\n",
        "  #polyuria-restlessness: 114\n",
        "  #polyuria-excessive_hunger: 114\n",
        "  #polyuria-obesity: 114"
      ],
      "metadata": {
        "colab": {
          "base_uri": "https://localhost:8080/"
        },
        "id": "QC9NkUb80b_K",
        "outputId": "f5ee15fc-fefe-46f2-d2d5-73f581fa5d73"
      },
      "execution_count": 18,
      "outputs": [
        {
          "output_type": "stream",
          "name": "stdout",
          "text": [
            "increased_appetite-polyuria: 120\n",
            "increased_appetite-weight_loss: 114\n",
            "increased_appetite-irregular_sugar_level: 114\n",
            "increased_appetite-blurred_and_distorted_vision: 114\n",
            "increased_appetite-fatigue: 114\n",
            "increased_appetite-lethargy: 114\n",
            "increased_appetite-restlessness: 114\n",
            "increased_appetite-excessive_hunger: 114\n",
            "increased_appetite-obesity: 114\n",
            "polyuria-weight_loss: 114\n",
            "polyuria-irregular_sugar_level: 114\n",
            "polyuria-blurred_and_distorted_vision: 114\n",
            "polyuria-fatigue: 114\n",
            "polyuria-lethargy: 114\n",
            "polyuria-restlessness: 114\n",
            "polyuria-excessive_hunger: 114\n",
            "polyuria-obesity: 114\n",
            "weight_loss-irregular_sugar_level: 108\n",
            "weight_loss-blurred_and_distorted_vision: 108\n",
            "weight_loss-fatigue: 108\n",
            "weight_loss-lethargy: 108\n",
            "weight_loss-restlessness: 108\n",
            "weight_loss-excessive_hunger: 108\n",
            "weight_loss-obesity: 108\n",
            "irregular_sugar_level-blurred_and_distorted_vision: 108\n",
            "irregular_sugar_level-fatigue: 108\n",
            "irregular_sugar_level-lethargy: 108\n",
            "irregular_sugar_level-restlessness: 108\n",
            "irregular_sugar_level-excessive_hunger: 108\n",
            "irregular_sugar_level-obesity: 108\n",
            "blurred_and_distorted_vision-fatigue: 108\n",
            "blurred_and_distorted_vision-lethargy: 108\n",
            "blurred_and_distorted_vision-restlessness: 108\n",
            "blurred_and_distorted_vision-excessive_hunger: 108\n",
            "blurred_and_distorted_vision-obesity: 108\n",
            "fatigue-lethargy: 108\n",
            "fatigue-restlessness: 108\n",
            "fatigue-excessive_hunger: 108\n",
            "fatigue-obesity: 108\n",
            "lethargy-restlessness: 108\n",
            "lethargy-excessive_hunger: 108\n",
            "lethargy-obesity: 108\n",
            "restlessness-excessive_hunger: 108\n",
            "restlessness-obesity: 108\n",
            "excessive_hunger-obesity: 108\n"
          ]
        }
      ]
    },
    {
      "cell_type": "markdown",
      "source": [
        "# Tarea 04  Feature Selection "
      ],
      "metadata": {
        "id": "u2M8XHnrI5Qn"
      }
    },
    {
      "cell_type": "code",
      "source": [
        "# Mutual information based feature \n",
        "\n",
        "\n",
        "import pandas as pd\n",
        "from sklearn.feature_selection import mutual_info_classif\n",
        "\n",
        "\n",
        "# Split the dataset into features and target\n",
        "X = df.drop('prognosis', axis=1)\n",
        "y = df['prognosis']\n",
        "\n",
        "# Compute mutual information between each feature and the target\n",
        "mutual_info = mutual_info_classif(X, y)\n",
        "\n",
        "# Sort the features based on mutual information\n",
        "feature_scores = pd.Series(mutual_info, index=X.columns).sort_values(ascending=False)\n",
        "\n",
        "# Print the ranked features\n",
        "print(feature_scores)\n",
        "\n",
        "#Mutual information (MI) is a measure of the amount of information that two variables share. In the context of feature selection, mutual information can be used to quantify the amount of information that a feature provides about the target variable.\n",
        "#More specifically, mutual information measures the reduction in uncertainty about the target variable that is achieved by knowing the value of a feature. The higher the mutual information score between a feature and the target variable, the more information that feature provides about the target, and the more likely it is to be useful for predicting the target variable."
      ],
      "metadata": {
        "colab": {
          "base_uri": "https://localhost:8080/"
        },
        "id": "RjopIOzwH24t",
        "outputId": "84dbab7c-7392-41dc-9dd8-38982024de88"
      },
      "execution_count": 19,
      "outputs": [
        {
          "output_type": "stream",
          "name": "stdout",
          "text": [
            "polyuria                 0.114767\n",
            "increased_appetite       0.114767\n",
            "irregular_sugar_level    0.105527\n",
            "restlessness             0.072310\n",
            "obesity                  0.070159\n",
            "                           ...   \n",
            "indigestion              0.000000\n",
            "swollen_extremeties      0.000000\n",
            "dehydration              0.000000\n",
            "sunken_eyes              0.000000\n",
            "dischromic _patches      0.000000\n",
            "Length: 132, dtype: float64\n"
          ]
        }
      ]
    },
    {
      "cell_type": "markdown",
      "source": [
        "# Tarea 06 - Aprendizaje No Supervisado \n",
        "\n"
      ],
      "metadata": {
        "id": "4dUanYdLQ7qm"
      }
    },
    {
      "cell_type": "code",
      "source": [
        "df_noprog"
      ],
      "metadata": {
        "colab": {
          "base_uri": "https://localhost:8080/",
          "height": 488
        },
        "id": "_Zi9ZOZ-wP2F",
        "outputId": "41111777-aba8-4b2d-a001-174bbfd5b858"
      },
      "execution_count": 10,
      "outputs": [
        {
          "output_type": "execute_result",
          "data": {
            "text/plain": [
              "      itching  skin_rash  nodal_skin_eruptions  continuous_sneezing  \\\n",
              "0           1          1                     1                    0   \n",
              "1           0          1                     1                    0   \n",
              "2           1          0                     1                    0   \n",
              "3           1          1                     0                    0   \n",
              "4           1          1                     1                    0   \n",
              "...       ...        ...                   ...                  ...   \n",
              "4915        0          0                     0                    0   \n",
              "4916        0          1                     0                    0   \n",
              "4917        0          0                     0                    0   \n",
              "4918        0          1                     0                    0   \n",
              "4919        0          1                     0                    0   \n",
              "\n",
              "      shivering  chills  joint_pain  stomach_pain  acidity  ulcers_on_tongue  \\\n",
              "0             0       0           0             0        0                 0   \n",
              "1             0       0           0             0        0                 0   \n",
              "2             0       0           0             0        0                 0   \n",
              "3             0       0           0             0        0                 0   \n",
              "4             0       0           0             0        0                 0   \n",
              "...         ...     ...         ...           ...      ...               ...   \n",
              "4915          0       0           0             0        0                 0   \n",
              "4916          0       0           0             0        0                 0   \n",
              "4917          0       0           0             0        0                 0   \n",
              "4918          0       0           1             0        0                 0   \n",
              "4919          0       0           0             0        0                 0   \n",
              "\n",
              "      ...  pus_filled_pimples  blackheads  scurring  skin_peeling  \\\n",
              "0     ...                   0           0         0             0   \n",
              "1     ...                   0           0         0             0   \n",
              "2     ...                   0           0         0             0   \n",
              "3     ...                   0           0         0             0   \n",
              "4     ...                   0           0         0             0   \n",
              "...   ...                 ...         ...       ...           ...   \n",
              "4915  ...                   0           0         0             0   \n",
              "4916  ...                   1           1         1             0   \n",
              "4917  ...                   0           0         0             0   \n",
              "4918  ...                   0           0         0             1   \n",
              "4919  ...                   0           0         0             0   \n",
              "\n",
              "      silver_like_dusting  small_dents_in_nails  inflammatory_nails  blister  \\\n",
              "0                       0                     0                   0        0   \n",
              "1                       0                     0                   0        0   \n",
              "2                       0                     0                   0        0   \n",
              "3                       0                     0                   0        0   \n",
              "4                       0                     0                   0        0   \n",
              "...                   ...                   ...                 ...      ...   \n",
              "4915                    0                     0                   0        0   \n",
              "4916                    0                     0                   0        0   \n",
              "4917                    0                     0                   0        0   \n",
              "4918                    1                     1                   1        0   \n",
              "4919                    0                     0                   0        1   \n",
              "\n",
              "      red_sore_around_nose  yellow_crust_ooze  \n",
              "0                        0                  0  \n",
              "1                        0                  0  \n",
              "2                        0                  0  \n",
              "3                        0                  0  \n",
              "4                        0                  0  \n",
              "...                    ...                ...  \n",
              "4915                     0                  0  \n",
              "4916                     0                  0  \n",
              "4917                     0                  0  \n",
              "4918                     0                  0  \n",
              "4919                     1                  1  \n",
              "\n",
              "[4920 rows x 132 columns]"
            ],
            "text/html": [
              "\n",
              "  <div id=\"df-58c062c9-f1e1-402d-acaa-e4beb4beb429\">\n",
              "    <div class=\"colab-df-container\">\n",
              "      <div>\n",
              "<style scoped>\n",
              "    .dataframe tbody tr th:only-of-type {\n",
              "        vertical-align: middle;\n",
              "    }\n",
              "\n",
              "    .dataframe tbody tr th {\n",
              "        vertical-align: top;\n",
              "    }\n",
              "\n",
              "    .dataframe thead th {\n",
              "        text-align: right;\n",
              "    }\n",
              "</style>\n",
              "<table border=\"1\" class=\"dataframe\">\n",
              "  <thead>\n",
              "    <tr style=\"text-align: right;\">\n",
              "      <th></th>\n",
              "      <th>itching</th>\n",
              "      <th>skin_rash</th>\n",
              "      <th>nodal_skin_eruptions</th>\n",
              "      <th>continuous_sneezing</th>\n",
              "      <th>shivering</th>\n",
              "      <th>chills</th>\n",
              "      <th>joint_pain</th>\n",
              "      <th>stomach_pain</th>\n",
              "      <th>acidity</th>\n",
              "      <th>ulcers_on_tongue</th>\n",
              "      <th>...</th>\n",
              "      <th>pus_filled_pimples</th>\n",
              "      <th>blackheads</th>\n",
              "      <th>scurring</th>\n",
              "      <th>skin_peeling</th>\n",
              "      <th>silver_like_dusting</th>\n",
              "      <th>small_dents_in_nails</th>\n",
              "      <th>inflammatory_nails</th>\n",
              "      <th>blister</th>\n",
              "      <th>red_sore_around_nose</th>\n",
              "      <th>yellow_crust_ooze</th>\n",
              "    </tr>\n",
              "  </thead>\n",
              "  <tbody>\n",
              "    <tr>\n",
              "      <th>0</th>\n",
              "      <td>1</td>\n",
              "      <td>1</td>\n",
              "      <td>1</td>\n",
              "      <td>0</td>\n",
              "      <td>0</td>\n",
              "      <td>0</td>\n",
              "      <td>0</td>\n",
              "      <td>0</td>\n",
              "      <td>0</td>\n",
              "      <td>0</td>\n",
              "      <td>...</td>\n",
              "      <td>0</td>\n",
              "      <td>0</td>\n",
              "      <td>0</td>\n",
              "      <td>0</td>\n",
              "      <td>0</td>\n",
              "      <td>0</td>\n",
              "      <td>0</td>\n",
              "      <td>0</td>\n",
              "      <td>0</td>\n",
              "      <td>0</td>\n",
              "    </tr>\n",
              "    <tr>\n",
              "      <th>1</th>\n",
              "      <td>0</td>\n",
              "      <td>1</td>\n",
              "      <td>1</td>\n",
              "      <td>0</td>\n",
              "      <td>0</td>\n",
              "      <td>0</td>\n",
              "      <td>0</td>\n",
              "      <td>0</td>\n",
              "      <td>0</td>\n",
              "      <td>0</td>\n",
              "      <td>...</td>\n",
              "      <td>0</td>\n",
              "      <td>0</td>\n",
              "      <td>0</td>\n",
              "      <td>0</td>\n",
              "      <td>0</td>\n",
              "      <td>0</td>\n",
              "      <td>0</td>\n",
              "      <td>0</td>\n",
              "      <td>0</td>\n",
              "      <td>0</td>\n",
              "    </tr>\n",
              "    <tr>\n",
              "      <th>2</th>\n",
              "      <td>1</td>\n",
              "      <td>0</td>\n",
              "      <td>1</td>\n",
              "      <td>0</td>\n",
              "      <td>0</td>\n",
              "      <td>0</td>\n",
              "      <td>0</td>\n",
              "      <td>0</td>\n",
              "      <td>0</td>\n",
              "      <td>0</td>\n",
              "      <td>...</td>\n",
              "      <td>0</td>\n",
              "      <td>0</td>\n",
              "      <td>0</td>\n",
              "      <td>0</td>\n",
              "      <td>0</td>\n",
              "      <td>0</td>\n",
              "      <td>0</td>\n",
              "      <td>0</td>\n",
              "      <td>0</td>\n",
              "      <td>0</td>\n",
              "    </tr>\n",
              "    <tr>\n",
              "      <th>3</th>\n",
              "      <td>1</td>\n",
              "      <td>1</td>\n",
              "      <td>0</td>\n",
              "      <td>0</td>\n",
              "      <td>0</td>\n",
              "      <td>0</td>\n",
              "      <td>0</td>\n",
              "      <td>0</td>\n",
              "      <td>0</td>\n",
              "      <td>0</td>\n",
              "      <td>...</td>\n",
              "      <td>0</td>\n",
              "      <td>0</td>\n",
              "      <td>0</td>\n",
              "      <td>0</td>\n",
              "      <td>0</td>\n",
              "      <td>0</td>\n",
              "      <td>0</td>\n",
              "      <td>0</td>\n",
              "      <td>0</td>\n",
              "      <td>0</td>\n",
              "    </tr>\n",
              "    <tr>\n",
              "      <th>4</th>\n",
              "      <td>1</td>\n",
              "      <td>1</td>\n",
              "      <td>1</td>\n",
              "      <td>0</td>\n",
              "      <td>0</td>\n",
              "      <td>0</td>\n",
              "      <td>0</td>\n",
              "      <td>0</td>\n",
              "      <td>0</td>\n",
              "      <td>0</td>\n",
              "      <td>...</td>\n",
              "      <td>0</td>\n",
              "      <td>0</td>\n",
              "      <td>0</td>\n",
              "      <td>0</td>\n",
              "      <td>0</td>\n",
              "      <td>0</td>\n",
              "      <td>0</td>\n",
              "      <td>0</td>\n",
              "      <td>0</td>\n",
              "      <td>0</td>\n",
              "    </tr>\n",
              "    <tr>\n",
              "      <th>...</th>\n",
              "      <td>...</td>\n",
              "      <td>...</td>\n",
              "      <td>...</td>\n",
              "      <td>...</td>\n",
              "      <td>...</td>\n",
              "      <td>...</td>\n",
              "      <td>...</td>\n",
              "      <td>...</td>\n",
              "      <td>...</td>\n",
              "      <td>...</td>\n",
              "      <td>...</td>\n",
              "      <td>...</td>\n",
              "      <td>...</td>\n",
              "      <td>...</td>\n",
              "      <td>...</td>\n",
              "      <td>...</td>\n",
              "      <td>...</td>\n",
              "      <td>...</td>\n",
              "      <td>...</td>\n",
              "      <td>...</td>\n",
              "      <td>...</td>\n",
              "    </tr>\n",
              "    <tr>\n",
              "      <th>4915</th>\n",
              "      <td>0</td>\n",
              "      <td>0</td>\n",
              "      <td>0</td>\n",
              "      <td>0</td>\n",
              "      <td>0</td>\n",
              "      <td>0</td>\n",
              "      <td>0</td>\n",
              "      <td>0</td>\n",
              "      <td>0</td>\n",
              "      <td>0</td>\n",
              "      <td>...</td>\n",
              "      <td>0</td>\n",
              "      <td>0</td>\n",
              "      <td>0</td>\n",
              "      <td>0</td>\n",
              "      <td>0</td>\n",
              "      <td>0</td>\n",
              "      <td>0</td>\n",
              "      <td>0</td>\n",
              "      <td>0</td>\n",
              "      <td>0</td>\n",
              "    </tr>\n",
              "    <tr>\n",
              "      <th>4916</th>\n",
              "      <td>0</td>\n",
              "      <td>1</td>\n",
              "      <td>0</td>\n",
              "      <td>0</td>\n",
              "      <td>0</td>\n",
              "      <td>0</td>\n",
              "      <td>0</td>\n",
              "      <td>0</td>\n",
              "      <td>0</td>\n",
              "      <td>0</td>\n",
              "      <td>...</td>\n",
              "      <td>1</td>\n",
              "      <td>1</td>\n",
              "      <td>1</td>\n",
              "      <td>0</td>\n",
              "      <td>0</td>\n",
              "      <td>0</td>\n",
              "      <td>0</td>\n",
              "      <td>0</td>\n",
              "      <td>0</td>\n",
              "      <td>0</td>\n",
              "    </tr>\n",
              "    <tr>\n",
              "      <th>4917</th>\n",
              "      <td>0</td>\n",
              "      <td>0</td>\n",
              "      <td>0</td>\n",
              "      <td>0</td>\n",
              "      <td>0</td>\n",
              "      <td>0</td>\n",
              "      <td>0</td>\n",
              "      <td>0</td>\n",
              "      <td>0</td>\n",
              "      <td>0</td>\n",
              "      <td>...</td>\n",
              "      <td>0</td>\n",
              "      <td>0</td>\n",
              "      <td>0</td>\n",
              "      <td>0</td>\n",
              "      <td>0</td>\n",
              "      <td>0</td>\n",
              "      <td>0</td>\n",
              "      <td>0</td>\n",
              "      <td>0</td>\n",
              "      <td>0</td>\n",
              "    </tr>\n",
              "    <tr>\n",
              "      <th>4918</th>\n",
              "      <td>0</td>\n",
              "      <td>1</td>\n",
              "      <td>0</td>\n",
              "      <td>0</td>\n",
              "      <td>0</td>\n",
              "      <td>0</td>\n",
              "      <td>1</td>\n",
              "      <td>0</td>\n",
              "      <td>0</td>\n",
              "      <td>0</td>\n",
              "      <td>...</td>\n",
              "      <td>0</td>\n",
              "      <td>0</td>\n",
              "      <td>0</td>\n",
              "      <td>1</td>\n",
              "      <td>1</td>\n",
              "      <td>1</td>\n",
              "      <td>1</td>\n",
              "      <td>0</td>\n",
              "      <td>0</td>\n",
              "      <td>0</td>\n",
              "    </tr>\n",
              "    <tr>\n",
              "      <th>4919</th>\n",
              "      <td>0</td>\n",
              "      <td>1</td>\n",
              "      <td>0</td>\n",
              "      <td>0</td>\n",
              "      <td>0</td>\n",
              "      <td>0</td>\n",
              "      <td>0</td>\n",
              "      <td>0</td>\n",
              "      <td>0</td>\n",
              "      <td>0</td>\n",
              "      <td>...</td>\n",
              "      <td>0</td>\n",
              "      <td>0</td>\n",
              "      <td>0</td>\n",
              "      <td>0</td>\n",
              "      <td>0</td>\n",
              "      <td>0</td>\n",
              "      <td>0</td>\n",
              "      <td>1</td>\n",
              "      <td>1</td>\n",
              "      <td>1</td>\n",
              "    </tr>\n",
              "  </tbody>\n",
              "</table>\n",
              "<p>4920 rows × 132 columns</p>\n",
              "</div>\n",
              "      <button class=\"colab-df-convert\" onclick=\"convertToInteractive('df-58c062c9-f1e1-402d-acaa-e4beb4beb429')\"\n",
              "              title=\"Convert this dataframe to an interactive table.\"\n",
              "              style=\"display:none;\">\n",
              "        \n",
              "  <svg xmlns=\"http://www.w3.org/2000/svg\" height=\"24px\"viewBox=\"0 0 24 24\"\n",
              "       width=\"24px\">\n",
              "    <path d=\"M0 0h24v24H0V0z\" fill=\"none\"/>\n",
              "    <path d=\"M18.56 5.44l.94 2.06.94-2.06 2.06-.94-2.06-.94-.94-2.06-.94 2.06-2.06.94zm-11 1L8.5 8.5l.94-2.06 2.06-.94-2.06-.94L8.5 2.5l-.94 2.06-2.06.94zm10 10l.94 2.06.94-2.06 2.06-.94-2.06-.94-.94-2.06-.94 2.06-2.06.94z\"/><path d=\"M17.41 7.96l-1.37-1.37c-.4-.4-.92-.59-1.43-.59-.52 0-1.04.2-1.43.59L10.3 9.45l-7.72 7.72c-.78.78-.78 2.05 0 2.83L4 21.41c.39.39.9.59 1.41.59.51 0 1.02-.2 1.41-.59l7.78-7.78 2.81-2.81c.8-.78.8-2.07 0-2.86zM5.41 20L4 18.59l7.72-7.72 1.47 1.35L5.41 20z\"/>\n",
              "  </svg>\n",
              "      </button>\n",
              "      \n",
              "  <style>\n",
              "    .colab-df-container {\n",
              "      display:flex;\n",
              "      flex-wrap:wrap;\n",
              "      gap: 12px;\n",
              "    }\n",
              "\n",
              "    .colab-df-convert {\n",
              "      background-color: #E8F0FE;\n",
              "      border: none;\n",
              "      border-radius: 50%;\n",
              "      cursor: pointer;\n",
              "      display: none;\n",
              "      fill: #1967D2;\n",
              "      height: 32px;\n",
              "      padding: 0 0 0 0;\n",
              "      width: 32px;\n",
              "    }\n",
              "\n",
              "    .colab-df-convert:hover {\n",
              "      background-color: #E2EBFA;\n",
              "      box-shadow: 0px 1px 2px rgba(60, 64, 67, 0.3), 0px 1px 3px 1px rgba(60, 64, 67, 0.15);\n",
              "      fill: #174EA6;\n",
              "    }\n",
              "\n",
              "    [theme=dark] .colab-df-convert {\n",
              "      background-color: #3B4455;\n",
              "      fill: #D2E3FC;\n",
              "    }\n",
              "\n",
              "    [theme=dark] .colab-df-convert:hover {\n",
              "      background-color: #434B5C;\n",
              "      box-shadow: 0px 1px 3px 1px rgba(0, 0, 0, 0.15);\n",
              "      filter: drop-shadow(0px 1px 2px rgba(0, 0, 0, 0.3));\n",
              "      fill: #FFFFFF;\n",
              "    }\n",
              "  </style>\n",
              "\n",
              "      <script>\n",
              "        const buttonEl =\n",
              "          document.querySelector('#df-58c062c9-f1e1-402d-acaa-e4beb4beb429 button.colab-df-convert');\n",
              "        buttonEl.style.display =\n",
              "          google.colab.kernel.accessAllowed ? 'block' : 'none';\n",
              "\n",
              "        async function convertToInteractive(key) {\n",
              "          const element = document.querySelector('#df-58c062c9-f1e1-402d-acaa-e4beb4beb429');\n",
              "          const dataTable =\n",
              "            await google.colab.kernel.invokeFunction('convertToInteractive',\n",
              "                                                     [key], {});\n",
              "          if (!dataTable) return;\n",
              "\n",
              "          const docLinkHtml = 'Like what you see? Visit the ' +\n",
              "            '<a target=\"_blank\" href=https://colab.research.google.com/notebooks/data_table.ipynb>data table notebook</a>'\n",
              "            + ' to learn more about interactive tables.';\n",
              "          element.innerHTML = '';\n",
              "          dataTable['output_type'] = 'display_data';\n",
              "          await google.colab.output.renderOutput(dataTable, element);\n",
              "          const docLink = document.createElement('div');\n",
              "          docLink.innerHTML = docLinkHtml;\n",
              "          element.appendChild(docLink);\n",
              "        }\n",
              "      </script>\n",
              "    </div>\n",
              "  </div>\n",
              "  "
            ]
          },
          "metadata": {},
          "execution_count": 10
        }
      ]
    },
    {
      "cell_type": "code",
      "source": [
        "# Create KMeans model and fit the data\n",
        "kmeans = KMeans(n_clusters=2).fit(df_noprog)\n",
        "\n",
        "# Es justamente en esta parte donde tenerlo previamente categorizado no hace mucho sentido hacer supervised learninig. \n",
        "\n",
        "# Get the labels assigned to each point in the dataset\n",
        "labels = kmeans.labels_\n",
        "\n",
        "# Plot the results\n",
        "plt.scatter(df_noprog.polyuria, df_noprog.increased_appetite, c=labels)\n",
        "plt.xlabel('Polyuria')\n",
        "plt.ylabel('Increased Apetite')\n",
        "plt.savefig(\"kmeans.pdf\")\n",
        "files.download(\"kmeans.pdf\")"
      ],
      "metadata": {
        "colab": {
          "base_uri": "https://localhost:8080/",
          "height": 314
        },
        "id": "vUvkBdRSUaXp",
        "outputId": "e4d294f5-e6d7-4a8c-f8f0-6f815c40fed6"
      },
      "execution_count": 20,
      "outputs": [
        {
          "output_type": "stream",
          "name": "stderr",
          "text": [
            "/usr/local/lib/python3.9/dist-packages/sklearn/cluster/_kmeans.py:870: FutureWarning: The default value of `n_init` will change from 10 to 'auto' in 1.4. Set the value of `n_init` explicitly to suppress the warning\n",
            "  warnings.warn(\n"
          ]
        },
        {
          "output_type": "display_data",
          "data": {
            "text/plain": [
              "<IPython.core.display.Javascript object>"
            ],
            "application/javascript": [
              "\n",
              "    async function download(id, filename, size) {\n",
              "      if (!google.colab.kernel.accessAllowed) {\n",
              "        return;\n",
              "      }\n",
              "      const div = document.createElement('div');\n",
              "      const label = document.createElement('label');\n",
              "      label.textContent = `Downloading \"${filename}\": `;\n",
              "      div.appendChild(label);\n",
              "      const progress = document.createElement('progress');\n",
              "      progress.max = size;\n",
              "      div.appendChild(progress);\n",
              "      document.body.appendChild(div);\n",
              "\n",
              "      const buffers = [];\n",
              "      let downloaded = 0;\n",
              "\n",
              "      const channel = await google.colab.kernel.comms.open(id);\n",
              "      // Send a message to notify the kernel that we're ready.\n",
              "      channel.send({})\n",
              "\n",
              "      for await (const message of channel.messages) {\n",
              "        // Send a message to notify the kernel that we're ready.\n",
              "        channel.send({})\n",
              "        if (message.buffers) {\n",
              "          for (const buffer of message.buffers) {\n",
              "            buffers.push(buffer);\n",
              "            downloaded += buffer.byteLength;\n",
              "            progress.value = downloaded;\n",
              "          }\n",
              "        }\n",
              "      }\n",
              "      const blob = new Blob(buffers, {type: 'application/binary'});\n",
              "      const a = document.createElement('a');\n",
              "      a.href = window.URL.createObjectURL(blob);\n",
              "      a.download = filename;\n",
              "      div.appendChild(a);\n",
              "      a.click();\n",
              "      div.remove();\n",
              "    }\n",
              "  "
            ]
          },
          "metadata": {}
        },
        {
          "output_type": "display_data",
          "data": {
            "text/plain": [
              "<IPython.core.display.Javascript object>"
            ],
            "application/javascript": [
              "download(\"download_cbab3844-5394-4d19-a99d-e4cb83625378\", \"kmeans.pdf\", 12310)"
            ]
          },
          "metadata": {}
        },
        {
          "output_type": "display_data",
          "data": {
            "text/plain": [
              "<Figure size 432x288 with 1 Axes>"
            ],
            "image/png": "[encoded data removed]"
          },
          "metadata": {
            "needs_background": "light"
          }
        }
      ]
    },
    {
      "cell_type": "code",
      "source": [
        "# Mencionar que en DB Scan va a ser lo mismo \n",
        "  # Si colocarlo en la metodologpia. "
      ],
      "metadata": {
        "id": "gPFjDmxDkqYI"
      },
      "execution_count": null,
      "outputs": []
    },
    {
      "cell_type": "code",
      "source": [],
      "metadata": {
        "id": "nRg3u2K-k6NQ"
      },
      "execution_count": null,
      "outputs": []
    },
    {
      "cell_type": "markdown",
      "source": [
        "# Tarea 07 - Algoritmos Supervisados "
      ],
      "metadata": {
        "id": "m9qZPaWMk6p7"
      }
    },
    {
      "cell_type": "code",
      "source": [
        "# Train = 3445 pacientes - 70%\n",
        "# Test  = 1475 pacientes - 30%\n",
        "\n",
        "df_test = pd.read_csv('/content/MachineLearning_EM23/Tarea06_ML_Febrero_AprendizajeSupervisado/Testing_Tarea06.csv') \n",
        "df_train = pd.read_csv('/content/MachineLearning_EM23/Tarea06_ML_Febrero_AprendizajeSupervisado/training_Tarea06.csv') "
      ],
      "metadata": {
        "id": "nVU5H98ulFps"
      },
      "execution_count": 21,
      "outputs": []
    },
    {
      "cell_type": "markdown",
      "source": [
        "## Logistic Regresion"
      ],
      "metadata": {
        "id": "_jQufK5qllLw"
      }
    },
    {
      "cell_type": "code",
      "source": [
        "from sklearn.model_selection import train_test_split\n",
        "from sklearn.linear_model import LogisticRegression\n",
        "from sklearn.metrics import accuracy_score\n"
      ],
      "metadata": {
        "id": "YdvWSspKlKAi"
      },
      "execution_count": 22,
      "outputs": []
    },
    {
      "cell_type": "code",
      "source": [
        "! git clone https://github.com/JoeAM11/MachineLearning_EM23.git\n"
      ],
      "metadata": {
        "colab": {
          "base_uri": "https://localhost:8080/"
        },
        "id": "nQmG3jrLVk8f",
        "outputId": "22f3274f-585f-402d-f762-ff8791184f45"
      },
      "execution_count": 23,
      "outputs": [
        {
          "output_type": "stream",
          "name": "stdout",
          "text": [
            "fatal: destination path 'MachineLearning_EM23' already exists and is not an empty directory.\n"
          ]
        }
      ]
    },
    {
      "cell_type": "code",
      "source": [
        "# Train = 3445 pacientes - 70%\n",
        "# Test  = 1475 pacientes - 30%\n",
        "\n",
        "df_test = pd.read_csv('/content/MachineLearning_EM23/Tarea06_ML_Febrero_AprendizajeSupervisado/Testing_Tarea06.csv') \n",
        "df_train = pd.read_csv('/content/MachineLearning_EM23/Tarea06_ML_Febrero_AprendizajeSupervisado/training_Tarea06.csv') \n",
        "\n",
        "# Liberías para ejecutar Linear regression para datos binarios\n",
        "\n",
        "from sklearn.model_selection import train_test_split\n",
        "from sklearn.linear_model import LogisticRegression\n",
        "from sklearn.metrics import accuracy_score\n",
        "\n",
        "# Preparar data frame de training y testing \n",
        "\n",
        "# Sacar todas las X del dataframe de train; Quitar prognosis\n",
        "x_train = df_train.drop('prognosis', axis=1)\n",
        "# Sacar la variable de respuesta del data frame de train, en este caso prognosis\n",
        "y_train = df_train.prognosis\n",
        "\n",
        "\n",
        "\n",
        "\n",
        "# Preparar data frame de testing; mismo paso anterior pero con la matriz de test  \n",
        "x_test = df_test.drop('prognosis', axis=1)\n",
        "y_test = df_test.prognosis\n",
        "\n",
        "\n",
        "# Fit del modelo con los datos de entrenamiento \n",
        "clf = LogisticRegression(random_state=0)\n",
        "clf.fit(x_train, y_train)"
      ],
      "metadata": {
        "colab": {
          "base_uri": "https://localhost:8080/",
          "height": 75
        },
        "id": "uk-L2N2KVsBM",
        "outputId": "a67e499f-2902-4926-ee59-40ced7c8e0d3"
      },
      "execution_count": 24,
      "outputs": [
        {
          "output_type": "execute_result",
          "data": {
            "text/plain": [
              "LogisticRegression(random_state=0)"
            ],
            "text/html": [
              "<style>#sk-container-id-1 {color: black;background-color: white;}#sk-container-id-1 pre{padding: 0;}#sk-container-id-1 div.sk-toggleable {background-color: white;}#sk-container-id-1 label.sk-toggleable__label {cursor: pointer;display: block;width: 100%;margin-bottom: 0;padding: 0.3em;box-sizing: border-box;text-align: center;}#sk-container-id-1 label.sk-toggleable__label-arrow:before {content: \"▸\";float: left;margin-right: 0.25em;color: #696969;}#sk-container-id-1 label.sk-toggleable__label-arrow:hover:before {color: black;}#sk-container-id-1 div.sk-estimator:hover label.sk-toggleable__label-arrow:before {color: black;}#sk-container-id-1 div.sk-toggleable__content {max-height: 0;max-width: 0;overflow: hidden;text-align: left;background-color: #f0f8ff;}#sk-container-id-1 div.sk-toggleable__content pre {margin: 0.2em;color: black;border-radius: 0.25em;background-color: #f0f8ff;}#sk-container-id-1 input.sk-toggleable__control:checked~div.sk-toggleable__content {max-height: 200px;max-width: 100%;overflow: auto;}#sk-container-id-1 input.sk-toggleable__control:checked~label.sk-toggleable__label-arrow:before {content: \"▾\";}#sk-container-id-1 div.sk-estimator input.sk-toggleable__control:checked~label.sk-toggleable__label {background-color: #d4ebff;}#sk-container-id-1 div.sk-label input.sk-toggleable__control:checked~label.sk-toggleable__label {background-color: #d4ebff;}#sk-container-id-1 input.sk-hidden--visually {border: 0;clip: rect(1px 1px 1px 1px);clip: rect(1px, 1px, 1px, 1px);height: 1px;margin: -1px;overflow: hidden;padding: 0;position: absolute;width: 1px;}#sk-container-id-1 div.sk-estimator {font-family: monospace;background-color: #f0f8ff;border: 1px dotted black;border-radius: 0.25em;box-sizing: border-box;margin-bottom: 0.5em;}#sk-container-id-1 div.sk-estimator:hover {background-color: #d4ebff;}#sk-container-id-1 div.sk-parallel-item::after {content: \"\";width: 100%;border-bottom: 1px solid gray;flex-grow: 1;}#sk-container-id-1 div.sk-label:hover label.sk-toggleable__label {background-color: #d4ebff;}#sk-container-id-1 div.sk-serial::before {content: \"\";position: absolute;border-left: 1px solid gray;box-sizing: border-box;top: 0;bottom: 0;left: 50%;z-index: 0;}#sk-container-id-1 div.sk-serial {display: flex;flex-direction: column;align-items: center;background-color: white;padding-right: 0.2em;padding-left: 0.2em;position: relative;}#sk-container-id-1 div.sk-item {position: relative;z-index: 1;}#sk-container-id-1 div.sk-parallel {display: flex;align-items: stretch;justify-content: center;background-color: white;position: relative;}#sk-container-id-1 div.sk-item::before, #sk-container-id-1 div.sk-parallel-item::before {content: \"\";position: absolute;border-left: 1px solid gray;box-sizing: border-box;top: 0;bottom: 0;left: 50%;z-index: -1;}#sk-container-id-1 div.sk-parallel-item {display: flex;flex-direction: column;z-index: 1;position: relative;background-color: white;}#sk-container-id-1 div.sk-parallel-item:first-child::after {align-self: flex-end;width: 50%;}#sk-container-id-1 div.sk-parallel-item:last-child::after {align-self: flex-start;width: 50%;}#sk-container-id-1 div.sk-parallel-item:only-child::after {width: 0;}#sk-container-id-1 div.sk-dashed-wrapped {border: 1px dashed gray;margin: 0 0.4em 0.5em 0.4em;box-sizing: border-box;padding-bottom: 0.4em;background-color: white;}#sk-container-id-1 div.sk-label label {font-family: monospace;font-weight: bold;display: inline-block;line-height: 1.2em;}#sk-container-id-1 div.sk-label-container {text-align: center;}#sk-container-id-1 div.sk-container {/* jupyter's `normalize.less` sets `[hidden] { display: none; }` but bootstrap.min.css set `[hidden] { display: none !important; }` so we also need the `!important` here to be able to override the default hidden behavior on the sphinx rendered scikit-learn.org. See: https://github.com/scikit-learn/scikit-learn/issues/21755 */display: inline-block !important;position: relative;}#sk-container-id-1 div.sk-text-repr-fallback {display: none;}</style><div id=\"sk-container-id-1\" class=\"sk-top-container\"><div class=\"sk-text-repr-fallback\"><pre>LogisticRegression(random_state=0)</pre><b>In a Jupyter environment, please rerun this cell to show the HTML representation or trust the notebook. <br />On GitHub, the HTML representation is unable to render, please try loading this page with nbviewer.org.</b></div><div class=\"sk-container\" hidden><div class=\"sk-item\"><div class=\"sk-estimator sk-toggleable\"><input class=\"sk-toggleable__control sk-hidden--visually\" id=\"sk-estimator-id-1\" type=\"checkbox\" checked><label for=\"sk-estimator-id-1\" class=\"sk-toggleable__label sk-toggleable__label-arrow\">LogisticRegression</label><div class=\"sk-toggleable__content\"><pre>LogisticRegression(random_state=0)</pre></div></div></div></div></div>"
            ]
          },
          "metadata": {},
          "execution_count": 24
        }
      ]
    },
    {
      "cell_type": "code",
      "source": [
        "\n",
        "# Accuracy is defined as the number of correct predictions divided by the total number of predictions made by the model. It is a measure of how well the model is able to classify the data correctly.\n",
        "# Comparar la prediccion del modelo contra el resultado real  \n",
        "\n",
        "y_pred = clf.predict(x_test)\n",
        "accuracy = accuracy_score(y_test, y_pred)\n",
        "print('Accuracy:', accuracy)\n",
        "\n",
        "# Se obtuvo un accuracy de 1.0, lo cual quiere decir que para todos las pacientes que tienne diabetes, según sus síntomas, fuimos capaces de predecir que tenía Diabetes. \n",
        "# Por el momento se me hace algo sospechoso que haya funcionado tan bien a la primera.\n",
        "  # Sin embargo, cabe la posibilidad que Diabetes sea una enfermedad muy bien estudiada de tal manera que se conocen muy bien sus síntomas y es difícil confundirlo con otra enfermedad. \n"
      ],
      "metadata": {
        "colab": {
          "base_uri": "https://localhost:8080/"
        },
        "id": "o88yv5ZEVz3R",
        "outputId": "7a0390a4-0ad7-4d1c-9ac4-377c38fe7c4e"
      },
      "execution_count": 25,
      "outputs": [
        {
          "output_type": "stream",
          "name": "stdout",
          "text": [
            "Accuracy: 1.0\n"
          ]
        }
      ]
    },
    {
      "cell_type": "code",
      "source": [
        "# Matiriz de confusión \n",
        "\n",
        "#                    Predicted positive    Predicted negative\n",
        "# Actual positive    True positive (TP)    False negative (FN)\n",
        "# Actual negative    False positive (FP)   True negative (TN)\n",
        "\n",
        "\n",
        "\n",
        "from sklearn.metrics import confusion_matrix, roc_curve, auc\n",
        "\n",
        "conf_matrix = confusion_matrix(y_test, y_pred)\n",
        "print('Confusion matrix:\\n', conf_matrix)\n",
        "\n",
        "\n",
        "# Resultados \n",
        "  # 1436 True Positives - No se tiene la enfermedad y se predijo que se tenía.\n",
        "  # 36 True negatives   - Se tiene la enferdad se predijo que se tenía. \n",
        "    # Me parece que el algoritmo está considerado el 0 como positive y el 1 como negative dado que yo sé que de la test data habían 36 casos de diabetes. \n",
        "      # Me los están marcando como TRUE NEGATIVE, cuando esperaba fuera TRUE POSITIVE\n",
        "      # Pendiente de revisar dónde puedo cambiar la lógica de interpretación de 0s y 1s"
      ],
      "metadata": {
        "colab": {
          "base_uri": "https://localhost:8080/"
        },
        "id": "WAJMtR-0V2df",
        "outputId": "08acc172-82bd-4a8b-9b53-51a76431d737"
      },
      "execution_count": 26,
      "outputs": [
        {
          "output_type": "stream",
          "name": "stdout",
          "text": [
            "Confusion matrix:\n",
            " [[1439    0]\n",
            " [   0   36]]\n"
          ]
        }
      ]
    },
    {
      "cell_type": "code",
      "source": [
        "import matplotlib.pyplot as plt\n",
        "import seaborn as sns\n",
        "from sklearn.metrics import confusion_matrix\n",
        "\n",
        "conf_matrix = confusion_matrix(y_test, y_pred)\n",
        "\n",
        "plt.figure(figsize=(8, 6))\n",
        "sns.heatmap(conf_matrix, annot=True, cmap='Blues')\n",
        "plt.xlabel('Predicción')\n",
        "plt.ylabel('Verdaderos')\n",
        "plt.savefig(\"matrizconf.pdf\")\n",
        "files.download(\"matrizconf.pdf\")"
      ],
      "metadata": {
        "colab": {
          "base_uri": "https://localhost:8080/",
          "height": 388
        },
        "id": "U67ir8LQXhOt",
        "outputId": "60c16690-a4a1-4a90-c86c-c1107ee72395"
      },
      "execution_count": 27,
      "outputs": [
        {
          "output_type": "display_data",
          "data": {
            "text/plain": [
              "<IPython.core.display.Javascript object>"
            ],
            "application/javascript": [
              "\n",
              "    async function download(id, filename, size) {\n",
              "      if (!google.colab.kernel.accessAllowed) {\n",
              "        return;\n",
              "      }\n",
              "      const div = document.createElement('div');\n",
              "      const label = document.createElement('label');\n",
              "      label.textContent = `Downloading \"${filename}\": `;\n",
              "      div.appendChild(label);\n",
              "      const progress = document.createElement('progress');\n",
              "      progress.max = size;\n",
              "      div.appendChild(progress);\n",
              "      document.body.appendChild(div);\n",
              "\n",
              "      const buffers = [];\n",
              "      let downloaded = 0;\n",
              "\n",
              "      const channel = await google.colab.kernel.comms.open(id);\n",
              "      // Send a message to notify the kernel that we're ready.\n",
              "      channel.send({})\n",
              "\n",
              "      for await (const message of channel.messages) {\n",
              "        // Send a message to notify the kernel that we're ready.\n",
              "        channel.send({})\n",
              "        if (message.buffers) {\n",
              "          for (const buffer of message.buffers) {\n",
              "            buffers.push(buffer);\n",
              "            downloaded += buffer.byteLength;\n",
              "            progress.value = downloaded;\n",
              "          }\n",
              "        }\n",
              "      }\n",
              "      const blob = new Blob(buffers, {type: 'application/binary'});\n",
              "      const a = document.createElement('a');\n",
              "      a.href = window.URL.createObjectURL(blob);\n",
              "      a.download = filename;\n",
              "      div.appendChild(a);\n",
              "      a.click();\n",
              "      div.remove();\n",
              "    }\n",
              "  "
            ]
          },
          "metadata": {}
        },
        {
          "output_type": "display_data",
          "data": {
            "text/plain": [
              "<IPython.core.display.Javascript object>"
            ],
            "application/javascript": [
              "download(\"download_9506cf70-030f-4872-9faf-49cda384f732\", \"matrizconf.pdf\", 12065)"
            ]
          },
          "metadata": {}
        },
        {
          "output_type": "display_data",
          "data": {
            "text/plain": [
              "<Figure size 576x432 with 2 Axes>"
            ],
            "image/png": "[encoded data removed]"
          },
          "metadata": {
            "needs_background": "light"
          }
        }
      ]
    },
    {
      "cell_type": "code",
      "source": [
        "# ROC (Receiver Operating Characteristic) \n",
        " # The ROC (Receiver Operating Characteristic) curve is a plot of the true positive rate (TPR) against the false positive rate (FPR) at various classification thresholds.\n",
        "  # In the context of a binary classification problem like predicting the presence or absence of an illness, the TPR is the proportion of actual positive cases that are correctly \n",
        "  # identified as positive by the model (i.e., the number of true positives divided by the sum of true positives and false negatives), and the FPR is the proportion of actual negative \n",
        "  # cases that are incorrectly identified as positive by the model (i.e., the number of false positives divided by the sum of false positives and true negatives).\n",
        "\n",
        "y_score = clf.decision_function(x_test)\n",
        "fpr, tpr, thresholds = roc_curve(y_test, y_score)\n",
        "roc_auc = auc(fpr, tpr)\n",
        "plt.figure()\n",
        "plt.plot(fpr, tpr, color='darkorange', lw=2, label='ROC curve (area = %0.2f)' % roc_auc)\n",
        "plt.plot([0, 1], [0, 1], color='navy', lw=2, linestyle='--')\n",
        "plt.xlim([0.0, 1.0])\n",
        "plt.ylim([0.0, 1.05])\n",
        "plt.xlabel('False Positive Rate')\n",
        "plt.ylabel('True Positive Rate')\n",
        "plt.title('Receiver operating characteristic')\n",
        "plt.legend(loc=\"lower right\")\n",
        "plt.savefig(\"ROCC.pdf\")\n",
        "files.download(\"ROCC.pdf\")"
      ],
      "metadata": {
        "colab": {
          "base_uri": "https://localhost:8080/",
          "height": 295
        },
        "id": "Hu5uBqRXV41T",
        "outputId": "53de6cfe-0849-41ad-ea0e-dffa006b1ef4"
      },
      "execution_count": 28,
      "outputs": [
        {
          "output_type": "display_data",
          "data": {
            "text/plain": [
              "<IPython.core.display.Javascript object>"
            ],
            "application/javascript": [
              "\n",
              "    async function download(id, filename, size) {\n",
              "      if (!google.colab.kernel.accessAllowed) {\n",
              "        return;\n",
              "      }\n",
              "      const div = document.createElement('div');\n",
              "      const label = document.createElement('label');\n",
              "      label.textContent = `Downloading \"${filename}\": `;\n",
              "      div.appendChild(label);\n",
              "      const progress = document.createElement('progress');\n",
              "      progress.max = size;\n",
              "      div.appendChild(progress);\n",
              "      document.body.appendChild(div);\n",
              "\n",
              "      const buffers = [];\n",
              "      let downloaded = 0;\n",
              "\n",
              "      const channel = await google.colab.kernel.comms.open(id);\n",
              "      // Send a message to notify the kernel that we're ready.\n",
              "      channel.send({})\n",
              "\n",
              "      for await (const message of channel.messages) {\n",
              "        // Send a message to notify the kernel that we're ready.\n",
              "        channel.send({})\n",
              "        if (message.buffers) {\n",
              "          for (const buffer of message.buffers) {\n",
              "            buffers.push(buffer);\n",
              "            downloaded += buffer.byteLength;\n",
              "            progress.value = downloaded;\n",
              "          }\n",
              "        }\n",
              "      }\n",
              "      const blob = new Blob(buffers, {type: 'application/binary'});\n",
              "      const a = document.createElement('a');\n",
              "      a.href = window.URL.createObjectURL(blob);\n",
              "      a.download = filename;\n",
              "      div.appendChild(a);\n",
              "      a.click();\n",
              "      div.remove();\n",
              "    }\n",
              "  "
            ]
          },
          "metadata": {}
        },
        {
          "output_type": "display_data",
          "data": {
            "text/plain": [
              "<IPython.core.display.Javascript object>"
            ],
            "application/javascript": [
              "download(\"download_db9b88a5-877f-4566-86b0-66b3a4969e6d\", \"ROCC.pdf\", 13025)"
            ]
          },
          "metadata": {}
        },
        {
          "output_type": "display_data",
          "data": {
            "text/plain": [
              "<Figure size 432x288 with 1 Axes>"
            ],
            "image/png": "[encoded data removed]"
          },
          "metadata": {
            "needs_background": "light"
          }
        }
      ]
    },
    {
      "cell_type": "markdown",
      "source": [
        "## Naive Bayes "
      ],
      "metadata": {
        "id": "9R51IQsjlqXj"
      }
    },
    {
      "cell_type": "code",
      "source": [
        "import pandas as pd\n",
        "from sklearn.naive_bayes import BernoulliNB\n",
        "from sklearn.model_selection import train_test_split\n",
        "from sklearn.metrics import accuracy_score\n",
        "\n",
        "# Create a Naive Bayes classifier and fit it to the training data\n",
        "clf = BernoulliNB()\n",
        "clf.fit(x_train, y_train)\n",
        "\n",
        "# Make predictions on the testing data\n",
        "y_pred = clf.predict(x_test)\n",
        "\n",
        "# Compute the accuracy of the classifier\n",
        "accuracy = accuracy_score(y_test, y_pred)\n",
        "print(\"Accuracy: {:.2f}%\".format(accuracy * 100))\n",
        "\n",
        "\n",
        "\n",
        "# https://www.youtube.com/watch?v=O2L2Uv9pdDA"
      ],
      "metadata": {
        "colab": {
          "base_uri": "https://localhost:8080/"
        },
        "id": "Pv9Sn1gam6Xq",
        "outputId": "67ddf667-daf2-4281-f646-72f4699ce180"
      },
      "execution_count": 29,
      "outputs": [
        {
          "output_type": "stream",
          "name": "stdout",
          "text": [
            "Accuracy: 100.00%\n"
          ]
        }
      ]
    },
    {
      "cell_type": "markdown",
      "source": [
        "# Tarea 07 - Clasificación "
      ],
      "metadata": {
        "id": "ODPldbQsp6BR"
      }
    },
    {
      "cell_type": "code",
      "source": [
        "! git clone https://github.com/JoeAM11/MachineLearning_EM23.git\n",
        "import pandas as pd\n",
        "from scipy import stats\n",
        "import statistics\n",
        "import matplotlib.pyplot as plt\n",
        "df = pd.read_csv('/content/MachineLearning_EM23/Training.csv') #Importar el csv desde mi repositorio en Guthub\n",
        "import pandas as pd\n",
        "import numpy as np\n",
        "\n",
        "import matplotlib.pyplot as plt\n",
        "df.drop(columns=['Unnamed: 133'],inplace=True) #no entiendo porque aparecio una nueva columna, por eso la quito. \n"
      ],
      "metadata": {
        "colab": {
          "base_uri": "https://localhost:8080/"
        },
        "id": "fq32kjE6qPhg",
        "outputId": "b02a67bf-d34e-4710-a885-dc7d14b13605"
      },
      "execution_count": 30,
      "outputs": [
        {
          "output_type": "stream",
          "name": "stdout",
          "text": [
            "fatal: destination path 'MachineLearning_EM23' already exists and is not an empty directory.\n"
          ]
        }
      ]
    },
    {
      "cell_type": "code",
      "source": [
        "# Sets de datos de los pacientes que dado unos síntomas tienen (1) o no tienen  (0) diabetes\n",
        "# Train = 3445 pacientes - 70%\n",
        "# Test  = 1475 pacientes - 30%\n",
        "\n",
        "df_train = pd.read_csv('/content/MachineLearning_EM23/Tarea06_ML_Febrero_AprendizajeSupervisado/training_Tarea06.csv') \n",
        "df_test = pd.read_csv('/content/MachineLearning_EM23/Tarea06_ML_Febrero_AprendizajeSupervisado/Testing_Tarea06.csv') "
      ],
      "metadata": {
        "id": "Y0CNwF_gzyQ7"
      },
      "execution_count": 31,
      "outputs": []
    },
    {
      "cell_type": "code",
      "source": [
        "# Partir mis datos en entrenamiento y test\n",
        "\n",
        "# Entrenamiento \n",
        "# Variables predictoras (síntomas)\n",
        "x_train = df_train.drop('prognosis', axis=1) \n",
        "\n",
        "# Variable de interés. Presencia o ausencia de diabetes\n",
        "y_train = df_train.prognosis \n",
        "\n",
        "\n",
        "#Test \n",
        "# Variables predictoras (síntomas)\n",
        "x_test = df_test.drop('prognosis', axis=1) \n",
        "\n",
        "# Variable de interés. Presencia o ausencia de diabetes\n",
        "y_test = df_test.prognosis "
      ],
      "metadata": {
        "id": "d_YjH5qh0BTQ"
      },
      "execution_count": 32,
      "outputs": []
    },
    {
      "cell_type": "code",
      "source": [
        "# Importar librebría necesario para la clasificación de desición de árbol\n",
        "from sklearn.tree import DecisionTreeClassifier\n",
        "     \n",
        "\n",
        "# dtc se declara como una clase de la funcion importada\n",
        "# XXXXXXXXXXXXXXXXXX que significa depth y random state  ZXXXXXXXXXXXXXXXXXXXXXXXXX\n",
        "\n",
        "dtc = DecisionTreeClassifier(max_depth=5)\n",
        "\n",
        "# fit del árbol de desición\n",
        "dtc.fit(x_train, y_train)"
      ],
      "metadata": {
        "colab": {
          "base_uri": "https://localhost:8080/",
          "height": 75
        },
        "id": "5mzJ3liU0EoS",
        "outputId": "5cf96eb5-3ce1-4917-80c5-9f73f7b2714c"
      },
      "execution_count": 33,
      "outputs": [
        {
          "output_type": "execute_result",
          "data": {
            "text/plain": [
              "DecisionTreeClassifier(max_depth=5)"
            ],
            "text/html": [
              "<style>#sk-container-id-2 {color: black;background-color: white;}#sk-container-id-2 pre{padding: 0;}#sk-container-id-2 div.sk-toggleable {background-color: white;}#sk-container-id-2 label.sk-toggleable__label {cursor: pointer;display: block;width: 100%;margin-bottom: 0;padding: 0.3em;box-sizing: border-box;text-align: center;}#sk-container-id-2 label.sk-toggleable__label-arrow:before {content: \"▸\";float: left;margin-right: 0.25em;color: #696969;}#sk-container-id-2 label.sk-toggleable__label-arrow:hover:before {color: black;}#sk-container-id-2 div.sk-estimator:hover label.sk-toggleable__label-arrow:before {color: black;}#sk-container-id-2 div.sk-toggleable__content {max-height: 0;max-width: 0;overflow: hidden;text-align: left;background-color: #f0f8ff;}#sk-container-id-2 div.sk-toggleable__content pre {margin: 0.2em;color: black;border-radius: 0.25em;background-color: #f0f8ff;}#sk-container-id-2 input.sk-toggleable__control:checked~div.sk-toggleable__content {max-height: 200px;max-width: 100%;overflow: auto;}#sk-container-id-2 input.sk-toggleable__control:checked~label.sk-toggleable__label-arrow:before {content: \"▾\";}#sk-container-id-2 div.sk-estimator input.sk-toggleable__control:checked~label.sk-toggleable__label {background-color: #d4ebff;}#sk-container-id-2 div.sk-label input.sk-toggleable__control:checked~label.sk-toggleable__label {background-color: #d4ebff;}#sk-container-id-2 input.sk-hidden--visually {border: 0;clip: rect(1px 1px 1px 1px);clip: rect(1px, 1px, 1px, 1px);height: 1px;margin: -1px;overflow: hidden;padding: 0;position: absolute;width: 1px;}#sk-container-id-2 div.sk-estimator {font-family: monospace;background-color: #f0f8ff;border: 1px dotted black;border-radius: 0.25em;box-sizing: border-box;margin-bottom: 0.5em;}#sk-container-id-2 div.sk-estimator:hover {background-color: #d4ebff;}#sk-container-id-2 div.sk-parallel-item::after {content: \"\";width: 100%;border-bottom: 1px solid gray;flex-grow: 1;}#sk-container-id-2 div.sk-label:hover label.sk-toggleable__label {background-color: #d4ebff;}#sk-container-id-2 div.sk-serial::before {content: \"\";position: absolute;border-left: 1px solid gray;box-sizing: border-box;top: 0;bottom: 0;left: 50%;z-index: 0;}#sk-container-id-2 div.sk-serial {display: flex;flex-direction: column;align-items: center;background-color: white;padding-right: 0.2em;padding-left: 0.2em;position: relative;}#sk-container-id-2 div.sk-item {position: relative;z-index: 1;}#sk-container-id-2 div.sk-parallel {display: flex;align-items: stretch;justify-content: center;background-color: white;position: relative;}#sk-container-id-2 div.sk-item::before, #sk-container-id-2 div.sk-parallel-item::before {content: \"\";position: absolute;border-left: 1px solid gray;box-sizing: border-box;top: 0;bottom: 0;left: 50%;z-index: -1;}#sk-container-id-2 div.sk-parallel-item {display: flex;flex-direction: column;z-index: 1;position: relative;background-color: white;}#sk-container-id-2 div.sk-parallel-item:first-child::after {align-self: flex-end;width: 50%;}#sk-container-id-2 div.sk-parallel-item:last-child::after {align-self: flex-start;width: 50%;}#sk-container-id-2 div.sk-parallel-item:only-child::after {width: 0;}#sk-container-id-2 div.sk-dashed-wrapped {border: 1px dashed gray;margin: 0 0.4em 0.5em 0.4em;box-sizing: border-box;padding-bottom: 0.4em;background-color: white;}#sk-container-id-2 div.sk-label label {font-family: monospace;font-weight: bold;display: inline-block;line-height: 1.2em;}#sk-container-id-2 div.sk-label-container {text-align: center;}#sk-container-id-2 div.sk-container {/* jupyter's `normalize.less` sets `[hidden] { display: none; }` but bootstrap.min.css set `[hidden] { display: none !important; }` so we also need the `!important` here to be able to override the default hidden behavior on the sphinx rendered scikit-learn.org. See: https://github.com/scikit-learn/scikit-learn/issues/21755 */display: inline-block !important;position: relative;}#sk-container-id-2 div.sk-text-repr-fallback {display: none;}</style><div id=\"sk-container-id-2\" class=\"sk-top-container\"><div class=\"sk-text-repr-fallback\"><pre>DecisionTreeClassifier(max_depth=5)</pre><b>In a Jupyter environment, please rerun this cell to show the HTML representation or trust the notebook. <br />On GitHub, the HTML representation is unable to render, please try loading this page with nbviewer.org.</b></div><div class=\"sk-container\" hidden><div class=\"sk-item\"><div class=\"sk-estimator sk-toggleable\"><input class=\"sk-toggleable__control sk-hidden--visually\" id=\"sk-estimator-id-2\" type=\"checkbox\" checked><label for=\"sk-estimator-id-2\" class=\"sk-toggleable__label sk-toggleable__label-arrow\">DecisionTreeClassifier</label><div class=\"sk-toggleable__content\"><pre>DecisionTreeClassifier(max_depth=5)</pre></div></div></div></div></div>"
            ]
          },
          "metadata": {},
          "execution_count": 33
        }
      ]
    },
    {
      "cell_type": "code",
      "source": [
        "# Predicción basado en el el entremaineto del modelo, utilizando las variables de test para predecir el resultado de y del data set de test. \n",
        "y_pred = dtc.predict(x_test)\n",
        "     \n",
        "\n",
        "# Evaluar el algoritmo con accuracy, presicion, recall y F1 score\n",
        "from sklearn.metrics import accuracy_score, precision_score, recall_score, f1_score\n",
        "\n",
        "print('Accuracy:', accuracy_score(y_test, y_pred))\n",
        "print('Precision:', precision_score(y_test, y_pred))\n",
        "print('Recall:', recall_score(y_test, y_pred))\n",
        "print('F1-score:', f1_score(y_test, y_pred))\n",
        "     "
      ],
      "metadata": {
        "colab": {
          "base_uri": "https://localhost:8080/"
        },
        "id": "FTdMn1R70Jtf",
        "outputId": "8fbd1596-2b95-4333-84fa-e2deb9c820e2"
      },
      "execution_count": 34,
      "outputs": [
        {
          "output_type": "stream",
          "name": "stdout",
          "text": [
            "Accuracy: 1.0\n",
            "Precision: 1.0\n",
            "Recall: 1.0\n",
            "F1-score: 1.0\n"
          ]
        }
      ]
    },
    {
      "cell_type": "code",
      "source": [
        "# Opción 1 \n",
        "from sklearn import tree\n",
        "import matplotlib.pyplot as plt\n",
        "\n",
        "# fig = plt.figure(figsize=(10,10))\n",
        "tree.plot_tree(dtc,filled = True,  max_depth=10) \n",
        "\n",
        "\n",
        "from google.colab import files\n",
        "plt.savefig(\"DT1.pdf\")\n",
        "files.download(\"DT1.pdf\")\n",
        "\n",
        "\n",
        "\n",
        "# lo que entiendo es que está tomando la variable 105 y de ahí dice que tiene 84 1 y 3361 0. \n",
        "# ¿Porqué agarra la 105?\n",
        "  # Pareciera ser que el depth no le afecta, sigue ploteando solo 1\n",
        "  # x_test.columns.get_loc('polyuria') --> Orinar excesivamente (Tiene sentido!, es uno de los síntomas más comunes de la diabetes)\n",
        "  # La 105 es polyuria y de hecho si tiene 84 positivos\n",
        "\n",
        "\n",
        "# ¿Entonces, qué es lo que está haciendo detrás el descicion tree classifier?\n",
        "  # ¿Será que de alguna manera determina que el diferenciador más importante para determinar si existe diabetes y no confundirlo con otra enfermedad que tengas síntomas similares sea la polyuria?\n",
        "\n",
        "# https://www.youtube.com/watch?v=EMcNjJ6Gj8w\n",
        "# Interpretacion parcial\n",
        "  # Con la variable 105. Si es menor a .5 se va ala izquierda, Si es mayor a .5 se va a la derecha. \n",
        "  # Polyuria fue escogido por le split para maximizar el decrecimiento de la impurity de gini / O para incrementar la pureza del nodo.\n",
        "  # Solo necesito un partición para llegar a mi conclusión de existencia o no existencia de diabetes. \n",
        "  # Entre más fuerte sea el color, la rama es más pura. El objetivo pricipal de este algoritmo. \n",
        "\n",
        "\n",
        "\n"
      ],
      "metadata": {
        "colab": {
          "base_uri": "https://localhost:8080/",
          "height": 248
        },
        "id": "IwoT2nft0Mru",
        "outputId": "213f9282-c006-4189-d10f-eb5ee59eaae8"
      },
      "execution_count": 35,
      "outputs": [
        {
          "output_type": "display_data",
          "data": {
            "text/plain": [
              "<IPython.core.display.Javascript object>"
            ],
            "application/javascript": [
              "\n",
              "    async function download(id, filename, size) {\n",
              "      if (!google.colab.kernel.accessAllowed) {\n",
              "        return;\n",
              "      }\n",
              "      const div = document.createElement('div');\n",
              "      const label = document.createElement('label');\n",
              "      label.textContent = `Downloading \"${filename}\": `;\n",
              "      div.appendChild(label);\n",
              "      const progress = document.createElement('progress');\n",
              "      progress.max = size;\n",
              "      div.appendChild(progress);\n",
              "      document.body.appendChild(div);\n",
              "\n",
              "      const buffers = [];\n",
              "      let downloaded = 0;\n",
              "\n",
              "      const channel = await google.colab.kernel.comms.open(id);\n",
              "      // Send a message to notify the kernel that we're ready.\n",
              "      channel.send({})\n",
              "\n",
              "      for await (const message of channel.messages) {\n",
              "        // Send a message to notify the kernel that we're ready.\n",
              "        channel.send({})\n",
              "        if (message.buffers) {\n",
              "          for (const buffer of message.buffers) {\n",
              "            buffers.push(buffer);\n",
              "            downloaded += buffer.byteLength;\n",
              "            progress.value = downloaded;\n",
              "          }\n",
              "        }\n",
              "      }\n",
              "      const blob = new Blob(buffers, {type: 'application/binary'});\n",
              "      const a = document.createElement('a');\n",
              "      a.href = window.URL.createObjectURL(blob);\n",
              "      a.download = filename;\n",
              "      div.appendChild(a);\n",
              "      a.click();\n",
              "      div.remove();\n",
              "    }\n",
              "  "
            ]
          },
          "metadata": {}
        },
        {
          "output_type": "display_data",
          "data": {
            "text/plain": [
              "<IPython.core.display.Javascript object>"
            ],
            "application/javascript": [
              "download(\"download_48bdf16c-c751-4c42-9995-6f93301a35c9\", \"DT1.pdf\", 10961)"
            ]
          },
          "metadata": {}
        },
        {
          "output_type": "display_data",
          "data": {
            "text/plain": [
              "<Figure size 432x288 with 1 Axes>"
            ],
            "image/png": "[encoded data removed]"
          },
          "metadata": {
            "needs_background": "light"
          }
        }
      ]
    },
    {
      "cell_type": "code",
      "source": [
        "# Que sucedería su polyuria no estuviera presente\n",
        "\n",
        "# Partir mis datos en entrenamiento y test\n",
        "\n",
        "# Entrenamiento \n",
        "# Variables predictoras (síntomas)\n",
        "x_train = df_train.drop(['increased_appetite'], axis=1) \n",
        "\n",
        "# Variable de interés. Presencia o ausencia de diabetes\n",
        "y_train = df_train.prognosis \n",
        "\n",
        "\n",
        "#Test \n",
        "# Variables predictoras (síntomas)\n",
        "x_test = df_test.drop('increased_appetite', axis=1) \n",
        "\n",
        "# Variable de interés. Presencia o ausencia de diabetes\n",
        "y_test = df_test.prognosis \n",
        "\n",
        "dtc = DecisionTreeClassifier(max_depth=5)\n",
        "\n",
        "# fit del árbol de desición\n",
        "dtc.fit(x_train, y_train)\n",
        "\n",
        "from sklearn import tree\n",
        "import matplotlib.pyplot as plt\n",
        "\n",
        "# fig = plt.figure(figsize=(10,10))\n",
        "tree.plot_tree(dtc,filled = True,  max_depth=10) \n",
        "\n",
        "plt.savefig(\"DT2.pdf\")\n",
        "files.download(\"DT2.pdf\")\n"
      ],
      "metadata": {
        "colab": {
          "base_uri": "https://localhost:8080/",
          "height": 248
        },
        "id": "u1inC4MF0RYu",
        "outputId": "e2e99e62-521a-4860-ee41-6ae0389df2a4"
      },
      "execution_count": 36,
      "outputs": [
        {
          "output_type": "display_data",
          "data": {
            "text/plain": [
              "<IPython.core.display.Javascript object>"
            ],
            "application/javascript": [
              "\n",
              "    async function download(id, filename, size) {\n",
              "      if (!google.colab.kernel.accessAllowed) {\n",
              "        return;\n",
              "      }\n",
              "      const div = document.createElement('div');\n",
              "      const label = document.createElement('label');\n",
              "      label.textContent = `Downloading \"${filename}\": `;\n",
              "      div.appendChild(label);\n",
              "      const progress = document.createElement('progress');\n",
              "      progress.max = size;\n",
              "      div.appendChild(progress);\n",
              "      document.body.appendChild(div);\n",
              "\n",
              "      const buffers = [];\n",
              "      let downloaded = 0;\n",
              "\n",
              "      const channel = await google.colab.kernel.comms.open(id);\n",
              "      // Send a message to notify the kernel that we're ready.\n",
              "      channel.send({})\n",
              "\n",
              "      for await (const message of channel.messages) {\n",
              "        // Send a message to notify the kernel that we're ready.\n",
              "        channel.send({})\n",
              "        if (message.buffers) {\n",
              "          for (const buffer of message.buffers) {\n",
              "            buffers.push(buffer);\n",
              "            downloaded += buffer.byteLength;\n",
              "            progress.value = downloaded;\n",
              "          }\n",
              "        }\n",
              "      }\n",
              "      const blob = new Blob(buffers, {type: 'application/binary'});\n",
              "      const a = document.createElement('a');\n",
              "      a.href = window.URL.createObjectURL(blob);\n",
              "      a.download = filename;\n",
              "      div.appendChild(a);\n",
              "      a.click();\n",
              "      div.remove();\n",
              "    }\n",
              "  "
            ]
          },
          "metadata": {}
        },
        {
          "output_type": "display_data",
          "data": {
            "text/plain": [
              "<IPython.core.display.Javascript object>"
            ],
            "application/javascript": [
              "download(\"download_38512797-b0ca-480f-95a5-69d90657fabf\", \"DT2.pdf\", 10961)"
            ]
          },
          "metadata": {}
        },
        {
          "output_type": "display_data",
          "data": {
            "text/plain": [
              "<Figure size 432x288 with 1 Axes>"
            ],
            "image/png": "[encoded data removed]"
          },
          "metadata": {
            "needs_background": "light"
          }
        }
      ]
    }
  ]
}